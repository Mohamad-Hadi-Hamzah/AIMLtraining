{
 "cells": [
  {
   "cell_type": "markdown",
   "id": "2b5976ae-d31c-4eb3-b4e3-d57a617d47fd",
   "metadata": {},
   "source": [
    "# First Jupyter Notebook"
   ]
  },
  {
   "cell_type": "code",
   "execution_count": 6,
   "id": "a0f74f03-d04b-47d9-98f1-d7919b749d6f",
   "metadata": {},
   "outputs": [
    {
     "name": "stdout",
     "output_type": "stream",
     "text": [
      "Welcome to Jupyter Notebook\n"
     ]
    }
   ],
   "source": [
    "print('Welcome to Jupyter Notebook')"
   ]
  },
  {
   "cell_type": "code",
   "execution_count": 14,
   "id": "b11bcf83-2ba7-4a69-a8e5-1a4e1c99769a",
   "metadata": {},
   "outputs": [
    {
     "name": "stdout",
     "output_type": "stream",
     "text": [
      "1\n",
      "2\n",
      "3\n",
      "4\n"
     ]
    }
   ],
   "source": [
    "for num in numbers:\n",
    "    print(num)"
   ]
  },
  {
   "cell_type": "code",
   "execution_count": 13,
   "id": "c181c960-510a-4a1a-a12e-76a2c4c6347b",
   "metadata": {},
   "outputs": [],
   "source": [
    "numbers=(1,2,3,4)"
   ]
  },
  {
   "cell_type": "code",
   "execution_count": null,
   "id": "11446f71-9fd4-494d-9d8e-651593750e48",
   "metadata": {},
   "outputs": [],
   "source": []
  }
 ],
 "metadata": {
  "kernelspec": {
   "display_name": "Python [conda env:base] *",
   "language": "python",
   "name": "conda-base-py"
  },
  "language_info": {
   "codemirror_mode": {
    "name": "ipython",
    "version": 3
   },
   "file_extension": ".py",
   "mimetype": "text/x-python",
   "name": "python",
   "nbconvert_exporter": "python",
   "pygments_lexer": "ipython3",
   "version": "3.13.5"
  }
 },
 "nbformat": 4,
 "nbformat_minor": 5
}
