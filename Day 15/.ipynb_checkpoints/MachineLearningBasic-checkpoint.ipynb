{
 "cells": [
  {
   "cell_type": "code",
   "execution_count": 2,
   "id": "1902f3c9-5a53-4156-976a-9de35b9f0e07",
   "metadata": {},
   "outputs": [],
   "source": [
    "import pandas as pd\n",
    "from sklearn.model_selection import train_test_split\n",
    "from sklearn.linear_model import LinearRegression"
   ]
  },
  {
   "cell_type": "code",
   "execution_count": 3,
   "id": "798c47a7-75bc-4e67-ab27-e0d1723c89af",
   "metadata": {},
   "outputs": [
    {
     "data": {
      "text/html": [
       "<div>\n",
       "<style scoped>\n",
       "    .dataframe tbody tr th:only-of-type {\n",
       "        vertical-align: middle;\n",
       "    }\n",
       "\n",
       "    .dataframe tbody tr th {\n",
       "        vertical-align: top;\n",
       "    }\n",
       "\n",
       "    .dataframe thead th {\n",
       "        text-align: right;\n",
       "    }\n",
       "</style>\n",
       "<table border=\"1\" class=\"dataframe\">\n",
       "  <thead>\n",
       "    <tr style=\"text-align: right;\">\n",
       "      <th></th>\n",
       "      <th>Hours</th>\n",
       "      <th>Marks</th>\n",
       "    </tr>\n",
       "  </thead>\n",
       "  <tbody>\n",
       "    <tr>\n",
       "      <th>0</th>\n",
       "      <td>1</td>\n",
       "      <td>25</td>\n",
       "    </tr>\n",
       "    <tr>\n",
       "      <th>1</th>\n",
       "      <td>2</td>\n",
       "      <td>35</td>\n",
       "    </tr>\n",
       "    <tr>\n",
       "      <th>2</th>\n",
       "      <td>3</td>\n",
       "      <td>45</td>\n",
       "    </tr>\n",
       "    <tr>\n",
       "      <th>3</th>\n",
       "      <td>4</td>\n",
       "      <td>50</td>\n",
       "    </tr>\n",
       "    <tr>\n",
       "      <th>4</th>\n",
       "      <td>5</td>\n",
       "      <td>55</td>\n",
       "    </tr>\n",
       "    <tr>\n",
       "      <th>5</th>\n",
       "      <td>6</td>\n",
       "      <td>65</td>\n",
       "    </tr>\n",
       "    <tr>\n",
       "      <th>6</th>\n",
       "      <td>7</td>\n",
       "      <td>70</td>\n",
       "    </tr>\n",
       "    <tr>\n",
       "      <th>7</th>\n",
       "      <td>8</td>\n",
       "      <td>80</td>\n",
       "    </tr>\n",
       "  </tbody>\n",
       "</table>\n",
       "</div>"
      ],
      "text/plain": [
       "   Hours  Marks\n",
       "0      1     25\n",
       "1      2     35\n",
       "2      3     45\n",
       "3      4     50\n",
       "4      5     55\n",
       "5      6     65\n",
       "6      7     70\n",
       "7      8     80"
      ]
     },
     "execution_count": 3,
     "metadata": {},
     "output_type": "execute_result"
    }
   ],
   "source": [
    "data ={\n",
    "    'Hours': [1,2,3,4,5,6,7,8],\n",
    "    'Marks': [25,35,45,50,55,65,70,80]\n",
    "}\n",
    "df = pd.DataFrame(data)\n",
    "df"
   ]
  },
  {
   "cell_type": "code",
   "execution_count": 6,
   "id": "6d007ba8-3c8a-481a-b0e4-50c7009ceaa0",
   "metadata": {},
   "outputs": [],
   "source": [
    "# Step 3: Define Features and Target\n",
    "X = df[['Hours']]\n",
    "y = df['Marks']"
   ]
  },
  {
   "cell_type": "code",
   "execution_count": 7,
   "id": "4f09f26d-b6ed-4253-9536-533a3d646d15",
   "metadata": {},
   "outputs": [
    {
     "name": "stdout",
     "output_type": "stream",
     "text": [
      "Training samples: 6\n",
      "Testing Samples: 2\n"
     ]
    }
   ],
   "source": [
    "# Step 4: Split Data into Train & Test Sets\n",
    "X_train,X_test,y_train,y_test = train_test_split(X,y,test_size=0.2,random_state=0)\n",
    "print('Training samples:', len(X_train))\n",
    "print('Testing Samples:',len(X_test))"
   ]
  },
  {
   "cell_type": "code",
   "execution_count": 8,
   "id": "91b50b5c-6222-49ba-9715-3f2bdc31829b",
   "metadata": {},
   "outputs": [
    {
     "name": "stdout",
     "output_type": "stream",
     "text": [
      "Model trained successfully\n"
     ]
    }
   ],
   "source": [
    "# Step 5: Create Model \n",
    "# Step 6: Train Model\n",
    "model = LinearRegression()\n",
    "model.fit(X_train, y_train)\n",
    "print('Model trained successfully')"
   ]
  },
  {
   "cell_type": "code",
   "execution_count": 10,
   "id": "825741d6-9628-48c4-8d9b-af527be5de60",
   "metadata": {},
   "outputs": [
    {
     "name": "stdout",
     "output_type": "stream",
     "text": [
      "[70 45]\n",
      "   Hours\n",
      "6      7\n",
      "2      3\n",
      "Actual: [np.int64(70), np.int64(45)]\n",
      "Predicted: [np.float64(72.2), np.float64(41.4)]\n"
     ]
    }
   ],
   "source": [
    "y_pred = model.predict(X_test)\n",
    "print(y_test.values)\n",
    "print(X_test)\n",
    "print('Actual:',list(y_test.values))\n",
    "print('Predicted:',list(y_pred))"
   ]
  },
  {
   "cell_type": "code",
   "execution_count": null,
   "id": "e8105833-c770-472e-96d0-a2100e70bffc",
   "metadata": {},
   "outputs": [],
   "source": []
  }
 ],
 "metadata": {
  "kernelspec": {
   "display_name": "Python [conda env:base] *",
   "language": "python",
   "name": "conda-base-py"
  },
  "language_info": {
   "codemirror_mode": {
    "name": "ipython",
    "version": 3
   },
   "file_extension": ".py",
   "mimetype": "text/x-python",
   "name": "python",
   "nbconvert_exporter": "python",
   "pygments_lexer": "ipython3",
   "version": "3.13.5"
  }
 },
 "nbformat": 4,
 "nbformat_minor": 5
}
