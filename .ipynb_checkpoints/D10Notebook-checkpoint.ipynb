{
 "cells": [
  {
   "cell_type": "code",
   "execution_count": null,
   "id": "bfe402d2-9d26-443a-84e1-ef536e945d33",
   "metadata": {},
   "outputs": [],
   "source": []
  },
  {
   "cell_type": "markdown",
   "id": "1789e737-8c70-4607-980b-1f101ffd0994",
   "metadata": {},
   "source": [
    "# First Notebook\n",
    "## Steps to Print a Single Line\n",
    "    We will create Code Cell\n",
    "    We will write print command\n",
    "    We will run cell"
   ]
  },
  {
   "cell_type": "code",
   "execution_count": 2,
   "id": "2579a570-874b-46a0-b49f-6d4fda3528a7",
   "metadata": {},
   "outputs": [
    {
     "name": "stdout",
     "output_type": "stream",
     "text": [
      "Welcome to Python Notebook\n"
     ]
    }
   ],
   "source": [
    "print('Welcome to Python Notebook')"
   ]
  },
  {
   "cell_type": "markdown",
   "id": "e4a46c11-e13d-4bc5-8355-e2f812b26ed9",
   "metadata": {},
   "source": [
    "## for loop example"
   ]
  },
  {
   "cell_type": "code",
   "execution_count": 3,
   "id": "5ebd84b6-35d6-4546-9816-18b4ab370b19",
   "metadata": {},
   "outputs": [
    {
     "name": "stdout",
     "output_type": "stream",
     "text": [
      "1\t2\t3\t4\t5\t6\t7\t8\t9\t10\t11\t12\t13\t14\t15\t16\t17\t18\t19\t20\t21\t22\t23\t24\t25\t26\t27\t28\t29\t30\t31\t32\t33\t34\t35\t36\t37\t38\t39\t40\t41\t42\t43\t44\t45\t46\t47\t48\t49\t50\t51\t52\t53\t54\t55\t56\t57\t58\t59\t60\t61\t62\t63\t64\t65\t66\t67\t68\t69\t70\t71\t72\t73\t74\t75\t76\t77\t78\t79\t80\t81\t82\t83\t84\t85\t86\t87\t88\t89\t90\t91\t92\t93\t94\t95\t96\t97\t98\t99\t100\t"
     ]
    }
   ],
   "source": [
    "for num in range(1,101):\n",
    "    print(num,end='\\t')"
   ]
  },
  {
   "cell_type": "code",
   "execution_count": 9,
   "id": "4b07a4a8-43ac-4839-9830-55add2cfb6dd",
   "metadata": {},
   "outputs": [],
   "source": [
    "players=('Jennie','Lalisa','Rose','Jisoo','Momo')"
   ]
  },
  {
   "cell_type": "code",
   "execution_count": 10,
   "id": "0122a773-66cd-411e-baa3-30ac15aed65b",
   "metadata": {},
   "outputs": [
    {
     "name": "stdout",
     "output_type": "stream",
     "text": [
      "Jennie\n",
      "Lalisa\n",
      "Rose\n",
      "Jisoo\n",
      "Momo\n"
     ]
    }
   ],
   "source": [
    "for player in players:\n",
    "    print(player)"
   ]
  },
  {
   "cell_type": "code",
   "execution_count": null,
   "id": "f1095897-3aec-4e5a-a710-166c8f3c83d1",
   "metadata": {},
   "outputs": [],
   "source": []
  },
  {
   "cell_type": "code",
   "execution_count": null,
   "id": "51274df0-63f5-4c3c-bdf8-2d9e4a2f77e7",
   "metadata": {},
   "outputs": [],
   "source": [
    "print('Welcome Again')"
   ]
  }
 ],
 "metadata": {
  "kernelspec": {
   "display_name": "Python [conda env:base] *",
   "language": "python",
   "name": "conda-base-py"
  },
  "language_info": {
   "codemirror_mode": {
    "name": "ipython",
    "version": 3
   },
   "file_extension": ".py",
   "mimetype": "text/x-python",
   "name": "python",
   "nbconvert_exporter": "python",
   "pygments_lexer": "ipython3",
   "version": "3.13.5"
  }
 },
 "nbformat": 4,
 "nbformat_minor": 5
}
