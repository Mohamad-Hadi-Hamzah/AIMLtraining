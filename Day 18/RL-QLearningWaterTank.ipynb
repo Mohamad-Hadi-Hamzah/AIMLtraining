{
 "cells": [
  {
   "cell_type": "code",
   "execution_count": 1,
   "id": "2d124d09-a1c9-4c0d-bf46-d3011ee43424",
   "metadata": {},
   "outputs": [],
   "source": [
    "import numpy as np\n",
    "import random"
   ]
  },
  {
   "cell_type": "code",
   "execution_count": 2,
   "id": "a3dcaa25-d14e-4917-9d5a-f3bdbddfb4d3",
   "metadata": {},
   "outputs": [
    {
     "name": "stdout",
     "output_type": "stream",
     "text": [
      "States: [  0  10  20  30  40  50  60  70  80  90 100]\n",
      "Actions: ['FILL', 'STOP']\n"
     ]
    }
   ],
   "source": [
    "#Define State and Actions \n",
    "states = np.arange(0, 101, 10)   # 0, 10,20,30,40..........100\n",
    "actions = ['FILL', 'STOP']       #Fill or Stop\n",
    "print('States:', states)\n",
    "print('Actions:', actions)"
   ]
  },
  {
   "cell_type": "code",
   "execution_count": 3,
   "id": "89c50c91-39aa-44e6-9506-0dc1eb44a3ca",
   "metadata": {},
   "outputs": [
    {
     "name": "stdout",
     "output_type": "stream",
     "text": [
      "Q-table shape: (11, 2)\n"
     ]
    }
   ],
   "source": [
    "#create Q table and set alpha, gamma, epsilon, episodes\n",
    "#Q Table: [s,a]\n",
    "Q = np.zeros((len(states), len(actions)))\n",
    "\n",
    "alpha = 0.1     # Learning rate\n",
    "gamma = 0.9     # Discount factor\n",
    "epsilon = 0.2   # Exploration rate\n",
    "episodes = 300  # Training runs\n",
    "\n",
    "print('Q-table shape:', Q.shape)"
   ]
  },
  {
   "cell_type": "code",
   "execution_count": 4,
   "id": "e09aa8a7-9864-432b-b964-2a034c5bfd32",
   "metadata": {},
   "outputs": [
    {
     "name": "stdout",
     "output_type": "stream",
     "text": [
      "Reward Example (level=60, FILL): 10\n"
     ]
    }
   ],
   "source": [
    "#Write Reward , Penality function\n",
    "def get_reward(level, action):\n",
    "    if 40 <= level <= 70:\n",
    "        reward = 10  # ideal range\n",
    "    else:\n",
    "        reward = -10  # too low/high\n",
    "    if action == 'FILL' and level >= 90:\n",
    "        reward -= 10  # overflow risk\n",
    "    if action == 'STOP' and level <= 10:\n",
    "        reward -= 10  # empty risk\n",
    "    return reward\n",
    "\n",
    "print('Reward Example (level=60, FILL):', get_reward(60, 'FILL'))"
   ]
  },
  {
   "cell_type": "code",
   "execution_count": 5,
   "id": "48cbb76e-481e-4642-9f59-f45ce67e00d6",
   "metadata": {},
   "outputs": [
    {
     "name": "stdout",
     "output_type": "stream",
     "text": [
      "Next Level Example: 65\n"
     ]
    }
   ],
   "source": [
    "def next_level(level, action):\n",
    "    if action == 'FILL':\n",
    "        level += random.choice([5, 10, 15])\n",
    "    else:\n",
    "        level -= random.choice([5, 10, 15])\n",
    "    return int(np.clip(level, 0, 100))\n",
    "\n",
    "print('Next Level Example:', next_level(50, 'FILL'))"
   ]
  },
  {
   "cell_type": "code",
   "execution_count": 6,
   "id": "c0260db9-04c7-494c-83d4-969901488c12",
   "metadata": {},
   "outputs": [
    {
     "name": "stdout",
     "output_type": "stream",
     "text": [
      "Training Completed\n"
     ]
    }
   ],
   "source": [
    "for ep in range(episodes):\n",
    "    level = random.choice(states)\n",
    "    for _ in range(15):  # steps per episode\n",
    "        if random.uniform(0, 1) < epsilon:\n",
    "            action = random.choice(actions)\n",
    "        else:\n",
    "            action = actions[np.argmax(Q[level // 10])]\n",
    "\n",
    "        next_state = next_level(level, action)\n",
    "        reward = get_reward(next_state, action)\n",
    "\n",
    "        a = actions.index(action)\n",
    "        best_next = np.max(Q[next_state // 10])\n",
    "        Q[level // 10, a] += alpha * (reward + gamma * best_next - Q[level // 10, a])\n",
    "print('Training Completed')"
   ]
  },
  {
   "cell_type": "code",
   "execution_count": 7,
   "id": "39df77ed-61e9-4d5b-a691-12e3152a6b0a",
   "metadata": {},
   "outputs": [
    {
     "name": "stdin",
     "output_type": "stream",
     "text": [
      "Enter starting water level (0–100):  30\n"
     ]
    },
    {
     "name": "stdout",
     "output_type": "stream",
     "text": [
      "\n",
      "Starting with level: 30%\n",
      "Simulating for 10 steps:\n",
      "\n",
      "Step 1: Level=30% → Action=FILL\n",
      "Step 2: Level=35% → Action=FILL\n",
      "Step 3: Level=45% → Action=FILL\n",
      "Step 4: Level=55% → Action=FILL\n",
      "Step 5: Level=70% → Action=STOP\n",
      "Step 6: Level=65% → Action=STOP\n",
      "Step 7: Level=50% → Action=FILL\n",
      "Step 8: Level=55% → Action=FILL\n",
      "Step 9: Level=70% → Action=STOP\n",
      "Step 10: Level=65% → Action=STOP\n",
      "\\Simulation complete. Water tank control finished.\n"
     ]
    }
   ],
   "source": [
    "try:\n",
    "    level = int(input('Enter starting water level (0–100): '))\n",
    "    if level < 0 or level > 100:\n",
    "        raise ValueError('Water level out of range!')\n",
    "except ValueError as e:\n",
    "    print(e)\n",
    "    level = 50\n",
    "    print('Defaut level set to 50%.')\n",
    "\n",
    "print(f'\\nStarting with level: {level}%')\n",
    "print('Simulating for 10 steps:\\n')\n",
    "\n",
    "for step in range(10):\n",
    "    action = actions[np.argmax(Q[level // 10])]\n",
    "    print(f'Step {step+1}: Level={level}% → Action={action}')\n",
    "    level = next_level(level, action)\n",
    "\n",
    "print('\\Simulation complete. Water tank control finished.')"
   ]
  },
  {
   "cell_type": "code",
   "execution_count": null,
   "id": "7d1530cb-76de-4884-bc87-37d3f73d8a56",
   "metadata": {},
   "outputs": [],
   "source": []
  }
 ],
 "metadata": {
  "kernelspec": {
   "display_name": "Python [conda env:base] *",
   "language": "python",
   "name": "conda-base-py"
  },
  "language_info": {
   "codemirror_mode": {
    "name": "ipython",
    "version": 3
   },
   "file_extension": ".py",
   "mimetype": "text/x-python",
   "name": "python",
   "nbconvert_exporter": "python",
   "pygments_lexer": "ipython3",
   "version": "3.13.5"
  }
 },
 "nbformat": 4,
 "nbformat_minor": 5
}
