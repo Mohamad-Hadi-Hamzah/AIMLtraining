{
 "cells": [
  {
   "cell_type": "code",
   "execution_count": 1,
   "id": "509b8197-49cc-41cd-94cb-ff9ffe89fb54",
   "metadata": {},
   "outputs": [],
   "source": [
    "import pandas as pd"
   ]
  },
  {
   "cell_type": "code",
   "execution_count": 2,
   "id": "1505bd75-f8bf-4dd4-944b-15dc773a006d",
   "metadata": {},
   "outputs": [],
   "source": [
    "# Sample dataset\n",
    "data = {\n",
    "    'Name':['Jennie','Lalisa','Rose',None,'Jisoo'],\n",
    "    'Age':[25,None,30,22,None],\n",
    "    'City':['KL','Penang',None,'Johor','KL']\n",
    "}"
   ]
  },
  {
   "cell_type": "code",
   "execution_count": 3,
   "id": "66a5b63e-3a03-47ef-b71e-322d711df486",
   "metadata": {},
   "outputs": [
    {
     "name": "stdout",
     "output_type": "stream",
     "text": [
      "Original Dataframe:\n"
     ]
    },
    {
     "data": {
      "text/html": [
       "<div>\n",
       "<style scoped>\n",
       "    .dataframe tbody tr th:only-of-type {\n",
       "        vertical-align: middle;\n",
       "    }\n",
       "\n",
       "    .dataframe tbody tr th {\n",
       "        vertical-align: top;\n",
       "    }\n",
       "\n",
       "    .dataframe thead th {\n",
       "        text-align: right;\n",
       "    }\n",
       "</style>\n",
       "<table border=\"1\" class=\"dataframe\">\n",
       "  <thead>\n",
       "    <tr style=\"text-align: right;\">\n",
       "      <th></th>\n",
       "      <th>Name</th>\n",
       "      <th>Age</th>\n",
       "      <th>City</th>\n",
       "    </tr>\n",
       "  </thead>\n",
       "  <tbody>\n",
       "    <tr>\n",
       "      <th>0</th>\n",
       "      <td>Jennie</td>\n",
       "      <td>25.0</td>\n",
       "      <td>KL</td>\n",
       "    </tr>\n",
       "    <tr>\n",
       "      <th>1</th>\n",
       "      <td>Lalisa</td>\n",
       "      <td>NaN</td>\n",
       "      <td>Penang</td>\n",
       "    </tr>\n",
       "    <tr>\n",
       "      <th>2</th>\n",
       "      <td>Rose</td>\n",
       "      <td>30.0</td>\n",
       "      <td>None</td>\n",
       "    </tr>\n",
       "    <tr>\n",
       "      <th>3</th>\n",
       "      <td>None</td>\n",
       "      <td>22.0</td>\n",
       "      <td>Johor</td>\n",
       "    </tr>\n",
       "    <tr>\n",
       "      <th>4</th>\n",
       "      <td>Jisoo</td>\n",
       "      <td>NaN</td>\n",
       "      <td>KL</td>\n",
       "    </tr>\n",
       "  </tbody>\n",
       "</table>\n",
       "</div>"
      ],
      "text/plain": [
       "     Name   Age    City\n",
       "0  Jennie  25.0      KL\n",
       "1  Lalisa   NaN  Penang\n",
       "2    Rose  30.0    None\n",
       "3    None  22.0   Johor\n",
       "4   Jisoo   NaN      KL"
      ]
     },
     "execution_count": 3,
     "metadata": {},
     "output_type": "execute_result"
    }
   ],
   "source": [
    "df=pd.DataFrame(data)\n",
    "print('Original Dataframe:')\n",
    "df"
   ]
  },
  {
   "cell_type": "markdown",
   "id": "7365aeac-e709-4440-8ab2-12e2d98beb35",
   "metadata": {},
   "source": [
    "# Check missing values row by row"
   ]
  },
  {
   "cell_type": "code",
   "execution_count": 4,
   "id": "a7ec0676-8576-45bb-8d9e-6d3501a85f7c",
   "metadata": {},
   "outputs": [
    {
     "name": "stdout",
     "output_type": "stream",
     "text": [
      "Row 0: Missing = False, Details = {'Name': False, 'Age': False, 'City': False}\n",
      "Row 1: Missing = True, Details = {'Name': False, 'Age': True, 'City': False}\n",
      "Row 2: Missing = True, Details = {'Name': False, 'Age': False, 'City': True}\n",
      "Row 3: Missing = True, Details = {'Name': True, 'Age': False, 'City': False}\n",
      "Row 4: Missing = True, Details = {'Name': False, 'Age': True, 'City': False}\n"
     ]
    }
   ],
   "source": [
    "for index, row in df.iterrows():\n",
    "    print(f'Row {index}: Missing = {row.isnull().any()}, Details = {row.isnull().to_dict()}')"
   ]
  },
  {
   "cell_type": "markdown",
   "id": "c08246e0-cc15-4585-8ca1-7e732a24937c",
   "metadata": {},
   "source": [
    "# Show only rows with missing data"
   ]
  },
  {
   "cell_type": "code",
   "execution_count": 5,
   "id": "07426248-45f8-4323-ab03-708a90f8c04b",
   "metadata": {},
   "outputs": [
    {
     "name": "stdout",
     "output_type": "stream",
     "text": [
      "Rows with missing data: \n"
     ]
    },
    {
     "data": {
      "text/html": [
       "<div>\n",
       "<style scoped>\n",
       "    .dataframe tbody tr th:only-of-type {\n",
       "        vertical-align: middle;\n",
       "    }\n",
       "\n",
       "    .dataframe tbody tr th {\n",
       "        vertical-align: top;\n",
       "    }\n",
       "\n",
       "    .dataframe thead th {\n",
       "        text-align: right;\n",
       "    }\n",
       "</style>\n",
       "<table border=\"1\" class=\"dataframe\">\n",
       "  <thead>\n",
       "    <tr style=\"text-align: right;\">\n",
       "      <th></th>\n",
       "      <th>Name</th>\n",
       "      <th>Age</th>\n",
       "      <th>City</th>\n",
       "    </tr>\n",
       "  </thead>\n",
       "  <tbody>\n",
       "    <tr>\n",
       "      <th>1</th>\n",
       "      <td>Lalisa</td>\n",
       "      <td>NaN</td>\n",
       "      <td>Penang</td>\n",
       "    </tr>\n",
       "    <tr>\n",
       "      <th>2</th>\n",
       "      <td>Rose</td>\n",
       "      <td>30.0</td>\n",
       "      <td>None</td>\n",
       "    </tr>\n",
       "    <tr>\n",
       "      <th>3</th>\n",
       "      <td>None</td>\n",
       "      <td>22.0</td>\n",
       "      <td>Johor</td>\n",
       "    </tr>\n",
       "    <tr>\n",
       "      <th>4</th>\n",
       "      <td>Jisoo</td>\n",
       "      <td>NaN</td>\n",
       "      <td>KL</td>\n",
       "    </tr>\n",
       "  </tbody>\n",
       "</table>\n",
       "</div>"
      ],
      "text/plain": [
       "     Name   Age    City\n",
       "1  Lalisa   NaN  Penang\n",
       "2    Rose  30.0    None\n",
       "3    None  22.0   Johor\n",
       "4   Jisoo   NaN      KL"
      ]
     },
     "execution_count": 5,
     "metadata": {},
     "output_type": "execute_result"
    }
   ],
   "source": [
    "missing_rows = df[df.isnull().any(axis=1)]\n",
    "print('Rows with missing data: ')\n",
    "missing_rows"
   ]
  },
  {
   "cell_type": "markdown",
   "id": "9d43afbb-cd2e-423e-8746-e8610a201101",
   "metadata": {},
   "source": [
    "# Simulate rows that would be dropped using dropna()"
   ]
  },
  {
   "cell_type": "code",
   "execution_count": 6,
   "id": "b1ac41e9-966d-490b-b8ba-482eb8737a1c",
   "metadata": {},
   "outputs": [
    {
     "name": "stdout",
     "output_type": "stream",
     "text": [
      "These rows would be dropped using dropna(): \n"
     ]
    },
    {
     "data": {
      "text/html": [
       "<div>\n",
       "<style scoped>\n",
       "    .dataframe tbody tr th:only-of-type {\n",
       "        vertical-align: middle;\n",
       "    }\n",
       "\n",
       "    .dataframe tbody tr th {\n",
       "        vertical-align: top;\n",
       "    }\n",
       "\n",
       "    .dataframe thead th {\n",
       "        text-align: right;\n",
       "    }\n",
       "</style>\n",
       "<table border=\"1\" class=\"dataframe\">\n",
       "  <thead>\n",
       "    <tr style=\"text-align: right;\">\n",
       "      <th></th>\n",
       "      <th>Name</th>\n",
       "      <th>Age</th>\n",
       "      <th>City</th>\n",
       "    </tr>\n",
       "  </thead>\n",
       "  <tbody>\n",
       "    <tr>\n",
       "      <th>1</th>\n",
       "      <td>Lalisa</td>\n",
       "      <td>NaN</td>\n",
       "      <td>Penang</td>\n",
       "    </tr>\n",
       "    <tr>\n",
       "      <th>2</th>\n",
       "      <td>Rose</td>\n",
       "      <td>30.0</td>\n",
       "      <td>None</td>\n",
       "    </tr>\n",
       "    <tr>\n",
       "      <th>3</th>\n",
       "      <td>None</td>\n",
       "      <td>22.0</td>\n",
       "      <td>Johor</td>\n",
       "    </tr>\n",
       "    <tr>\n",
       "      <th>4</th>\n",
       "      <td>Jisoo</td>\n",
       "      <td>NaN</td>\n",
       "      <td>KL</td>\n",
       "    </tr>\n",
       "  </tbody>\n",
       "</table>\n",
       "</div>"
      ],
      "text/plain": [
       "     Name   Age    City\n",
       "1  Lalisa   NaN  Penang\n",
       "2    Rose  30.0    None\n",
       "3    None  22.0   Johor\n",
       "4   Jisoo   NaN      KL"
      ]
     },
     "execution_count": 6,
     "metadata": {},
     "output_type": "execute_result"
    }
   ],
   "source": [
    "to_drop = df[df.isnull().any(axis=1)]\n",
    "print('These rows would be dropped using dropna(): ')\n",
    "to_drop"
   ]
  },
  {
   "cell_type": "code",
   "execution_count": 7,
   "id": "2351359b-719e-47fb-a3a4-4c36f90b76d3",
   "metadata": {},
   "outputs": [
    {
     "name": "stdout",
     "output_type": "stream",
     "text": [
      "After dropna(): \n"
     ]
    },
    {
     "data": {
      "text/html": [
       "<div>\n",
       "<style scoped>\n",
       "    .dataframe tbody tr th:only-of-type {\n",
       "        vertical-align: middle;\n",
       "    }\n",
       "\n",
       "    .dataframe tbody tr th {\n",
       "        vertical-align: top;\n",
       "    }\n",
       "\n",
       "    .dataframe thead th {\n",
       "        text-align: right;\n",
       "    }\n",
       "</style>\n",
       "<table border=\"1\" class=\"dataframe\">\n",
       "  <thead>\n",
       "    <tr style=\"text-align: right;\">\n",
       "      <th></th>\n",
       "      <th>Name</th>\n",
       "      <th>Age</th>\n",
       "      <th>City</th>\n",
       "    </tr>\n",
       "  </thead>\n",
       "  <tbody>\n",
       "    <tr>\n",
       "      <th>0</th>\n",
       "      <td>Jennie</td>\n",
       "      <td>25.0</td>\n",
       "      <td>KL</td>\n",
       "    </tr>\n",
       "  </tbody>\n",
       "</table>\n",
       "</div>"
      ],
      "text/plain": [
       "     Name   Age City\n",
       "0  Jennie  25.0   KL"
      ]
     },
     "execution_count": 7,
     "metadata": {},
     "output_type": "execute_result"
    }
   ],
   "source": [
    "df_cleaned = df.dropna()\n",
    "print('After dropna(): ')\n",
    "df_cleaned"
   ]
  },
  {
   "cell_type": "code",
   "execution_count": 8,
   "id": "2087973d-f5e8-4c83-8574-b365ef77ede6",
   "metadata": {},
   "outputs": [
    {
     "name": "stdout",
     "output_type": "stream",
     "text": [
      "Before fillna(): \n"
     ]
    },
    {
     "data": {
      "text/html": [
       "<div>\n",
       "<style scoped>\n",
       "    .dataframe tbody tr th:only-of-type {\n",
       "        vertical-align: middle;\n",
       "    }\n",
       "\n",
       "    .dataframe tbody tr th {\n",
       "        vertical-align: top;\n",
       "    }\n",
       "\n",
       "    .dataframe thead th {\n",
       "        text-align: right;\n",
       "    }\n",
       "</style>\n",
       "<table border=\"1\" class=\"dataframe\">\n",
       "  <thead>\n",
       "    <tr style=\"text-align: right;\">\n",
       "      <th></th>\n",
       "      <th>Name</th>\n",
       "      <th>Age</th>\n",
       "      <th>City</th>\n",
       "    </tr>\n",
       "  </thead>\n",
       "  <tbody>\n",
       "    <tr>\n",
       "      <th>0</th>\n",
       "      <td>Jennie</td>\n",
       "      <td>25.0</td>\n",
       "      <td>KL</td>\n",
       "    </tr>\n",
       "    <tr>\n",
       "      <th>1</th>\n",
       "      <td>Lalisa</td>\n",
       "      <td>NaN</td>\n",
       "      <td>Penang</td>\n",
       "    </tr>\n",
       "    <tr>\n",
       "      <th>2</th>\n",
       "      <td>Rose</td>\n",
       "      <td>30.0</td>\n",
       "      <td>None</td>\n",
       "    </tr>\n",
       "    <tr>\n",
       "      <th>3</th>\n",
       "      <td>None</td>\n",
       "      <td>22.0</td>\n",
       "      <td>Johor</td>\n",
       "    </tr>\n",
       "    <tr>\n",
       "      <th>4</th>\n",
       "      <td>Jisoo</td>\n",
       "      <td>NaN</td>\n",
       "      <td>KL</td>\n",
       "    </tr>\n",
       "  </tbody>\n",
       "</table>\n",
       "</div>"
      ],
      "text/plain": [
       "     Name   Age    City\n",
       "0  Jennie  25.0      KL\n",
       "1  Lalisa   NaN  Penang\n",
       "2    Rose  30.0    None\n",
       "3    None  22.0   Johor\n",
       "4   Jisoo   NaN      KL"
      ]
     },
     "execution_count": 8,
     "metadata": {},
     "output_type": "execute_result"
    }
   ],
   "source": [
    "print('Before fillna(): ')\n",
    "df"
   ]
  },
  {
   "cell_type": "code",
   "execution_count": 9,
   "id": "d714d9a4-29ab-4f1d-a79b-8545b1ccc292",
   "metadata": {},
   "outputs": [],
   "source": [
    "df_filled = df.fillna({\n",
    "    'Name':'Unknown',\n",
    "    'Age':df['Age'].mean(),\n",
    "    'City':'Not Available'\n",
    "})"
   ]
  },
  {
   "cell_type": "code",
   "execution_count": 10,
   "id": "dd0015d1-5ab7-4b2c-9001-4f380f14335b",
   "metadata": {},
   "outputs": [
    {
     "name": "stdout",
     "output_type": "stream",
     "text": [
      "After fillna(): \n"
     ]
    },
    {
     "data": {
      "text/html": [
       "<div>\n",
       "<style scoped>\n",
       "    .dataframe tbody tr th:only-of-type {\n",
       "        vertical-align: middle;\n",
       "    }\n",
       "\n",
       "    .dataframe tbody tr th {\n",
       "        vertical-align: top;\n",
       "    }\n",
       "\n",
       "    .dataframe thead th {\n",
       "        text-align: right;\n",
       "    }\n",
       "</style>\n",
       "<table border=\"1\" class=\"dataframe\">\n",
       "  <thead>\n",
       "    <tr style=\"text-align: right;\">\n",
       "      <th></th>\n",
       "      <th>Name</th>\n",
       "      <th>Age</th>\n",
       "      <th>City</th>\n",
       "    </tr>\n",
       "  </thead>\n",
       "  <tbody>\n",
       "    <tr>\n",
       "      <th>0</th>\n",
       "      <td>Jennie</td>\n",
       "      <td>25.000000</td>\n",
       "      <td>KL</td>\n",
       "    </tr>\n",
       "    <tr>\n",
       "      <th>1</th>\n",
       "      <td>Lalisa</td>\n",
       "      <td>25.666667</td>\n",
       "      <td>Penang</td>\n",
       "    </tr>\n",
       "    <tr>\n",
       "      <th>2</th>\n",
       "      <td>Rose</td>\n",
       "      <td>30.000000</td>\n",
       "      <td>Not Available</td>\n",
       "    </tr>\n",
       "    <tr>\n",
       "      <th>3</th>\n",
       "      <td>Unknown</td>\n",
       "      <td>22.000000</td>\n",
       "      <td>Johor</td>\n",
       "    </tr>\n",
       "    <tr>\n",
       "      <th>4</th>\n",
       "      <td>Jisoo</td>\n",
       "      <td>25.666667</td>\n",
       "      <td>KL</td>\n",
       "    </tr>\n",
       "  </tbody>\n",
       "</table>\n",
       "</div>"
      ],
      "text/plain": [
       "      Name        Age           City\n",
       "0   Jennie  25.000000             KL\n",
       "1   Lalisa  25.666667         Penang\n",
       "2     Rose  30.000000  Not Available\n",
       "3  Unknown  22.000000          Johor\n",
       "4    Jisoo  25.666667             KL"
      ]
     },
     "execution_count": 10,
     "metadata": {},
     "output_type": "execute_result"
    }
   ],
   "source": [
    "print('After fillna(): ')\n",
    "df_filled"
   ]
  },
  {
   "cell_type": "code",
   "execution_count": 13,
   "id": "5e5a0644-d1cc-4d96-8ef4-77265405316a",
   "metadata": {},
   "outputs": [],
   "source": [
    "df_sfill = df.fillna({\n",
    "    'Name':'Unknown',\n",
    "    'Age':round(df['Age'].mean(),2),\n",
    "    'City':'Not Available'\n",
    "})\n",
    "    "
   ]
  },
  {
   "cell_type": "code",
   "execution_count": 14,
   "id": "2336c9ce-c98c-44ab-9917-43a1af56ba35",
   "metadata": {},
   "outputs": [
    {
     "name": "stdout",
     "output_type": "stream",
     "text": [
      "After fillna(): Age up to two decimal: \n"
     ]
    },
    {
     "data": {
      "text/html": [
       "<div>\n",
       "<style scoped>\n",
       "    .dataframe tbody tr th:only-of-type {\n",
       "        vertical-align: middle;\n",
       "    }\n",
       "\n",
       "    .dataframe tbody tr th {\n",
       "        vertical-align: top;\n",
       "    }\n",
       "\n",
       "    .dataframe thead th {\n",
       "        text-align: right;\n",
       "    }\n",
       "</style>\n",
       "<table border=\"1\" class=\"dataframe\">\n",
       "  <thead>\n",
       "    <tr style=\"text-align: right;\">\n",
       "      <th></th>\n",
       "      <th>Name</th>\n",
       "      <th>Age</th>\n",
       "      <th>City</th>\n",
       "    </tr>\n",
       "  </thead>\n",
       "  <tbody>\n",
       "    <tr>\n",
       "      <th>0</th>\n",
       "      <td>Jennie</td>\n",
       "      <td>25.00</td>\n",
       "      <td>KL</td>\n",
       "    </tr>\n",
       "    <tr>\n",
       "      <th>1</th>\n",
       "      <td>Lalisa</td>\n",
       "      <td>25.67</td>\n",
       "      <td>Penang</td>\n",
       "    </tr>\n",
       "    <tr>\n",
       "      <th>2</th>\n",
       "      <td>Rose</td>\n",
       "      <td>30.00</td>\n",
       "      <td>Not Available</td>\n",
       "    </tr>\n",
       "    <tr>\n",
       "      <th>3</th>\n",
       "      <td>Unknown</td>\n",
       "      <td>22.00</td>\n",
       "      <td>Johor</td>\n",
       "    </tr>\n",
       "    <tr>\n",
       "      <th>4</th>\n",
       "      <td>Jisoo</td>\n",
       "      <td>25.67</td>\n",
       "      <td>KL</td>\n",
       "    </tr>\n",
       "  </tbody>\n",
       "</table>\n",
       "</div>"
      ],
      "text/plain": [
       "      Name    Age           City\n",
       "0   Jennie  25.00             KL\n",
       "1   Lalisa  25.67         Penang\n",
       "2     Rose  30.00  Not Available\n",
       "3  Unknown  22.00          Johor\n",
       "4    Jisoo  25.67             KL"
      ]
     },
     "execution_count": 14,
     "metadata": {},
     "output_type": "execute_result"
    }
   ],
   "source": [
    "print('After fillna(): Age up to two decimal: ')\n",
    "df_sfill"
   ]
  },
  {
   "cell_type": "markdown",
   "id": "204a16f1-ed40-4df6-b456-ac19a6123645",
   "metadata": {},
   "source": [
    "# test pakai import math"
   ]
  },
  {
   "cell_type": "code",
   "execution_count": 15,
   "id": "b74e4381-5fc4-4f69-a639-8544b781f416",
   "metadata": {},
   "outputs": [],
   "source": [
    "import math"
   ]
  },
  {
   "cell_type": "code",
   "execution_count": 17,
   "id": "7056192a-2a13-4650-ac59-2877239b8086",
   "metadata": {},
   "outputs": [
    {
     "data": {
      "text/html": [
       "<div>\n",
       "<style scoped>\n",
       "    .dataframe tbody tr th:only-of-type {\n",
       "        vertical-align: middle;\n",
       "    }\n",
       "\n",
       "    .dataframe tbody tr th {\n",
       "        vertical-align: top;\n",
       "    }\n",
       "\n",
       "    .dataframe thead th {\n",
       "        text-align: right;\n",
       "    }\n",
       "</style>\n",
       "<table border=\"1\" class=\"dataframe\">\n",
       "  <thead>\n",
       "    <tr style=\"text-align: right;\">\n",
       "      <th></th>\n",
       "      <th>Name</th>\n",
       "      <th>Age</th>\n",
       "      <th>City</th>\n",
       "    </tr>\n",
       "  </thead>\n",
       "  <tbody>\n",
       "    <tr>\n",
       "      <th>0</th>\n",
       "      <td>Jennie</td>\n",
       "      <td>25.0</td>\n",
       "      <td>KL</td>\n",
       "    </tr>\n",
       "    <tr>\n",
       "      <th>1</th>\n",
       "      <td>Lalisa</td>\n",
       "      <td>25.0</td>\n",
       "      <td>Penang</td>\n",
       "    </tr>\n",
       "    <tr>\n",
       "      <th>2</th>\n",
       "      <td>Rose</td>\n",
       "      <td>30.0</td>\n",
       "      <td>Not Available</td>\n",
       "    </tr>\n",
       "    <tr>\n",
       "      <th>3</th>\n",
       "      <td>Unknown</td>\n",
       "      <td>22.0</td>\n",
       "      <td>Johor</td>\n",
       "    </tr>\n",
       "    <tr>\n",
       "      <th>4</th>\n",
       "      <td>Jisoo</td>\n",
       "      <td>25.0</td>\n",
       "      <td>KL</td>\n",
       "    </tr>\n",
       "  </tbody>\n",
       "</table>\n",
       "</div>"
      ],
      "text/plain": [
       "      Name   Age           City\n",
       "0   Jennie  25.0             KL\n",
       "1   Lalisa  25.0         Penang\n",
       "2     Rose  30.0  Not Available\n",
       "3  Unknown  22.0          Johor\n",
       "4    Jisoo  25.0             KL"
      ]
     },
     "execution_count": 17,
     "metadata": {},
     "output_type": "execute_result"
    }
   ],
   "source": [
    "df_stest = df.fillna({\n",
    "    'Name':'Unknown',\n",
    "    'Age':math.floor(df['Age'].mean()),\n",
    "    'City':'Not Available'\n",
    "})\n",
    "df_stest"
   ]
  },
  {
   "cell_type": "code",
   "execution_count": 20,
   "id": "5db6b811-80fc-444b-a450-63d5a4e740b2",
   "metadata": {},
   "outputs": [
    {
     "data": {
      "text/html": [
       "<div>\n",
       "<style scoped>\n",
       "    .dataframe tbody tr th:only-of-type {\n",
       "        vertical-align: middle;\n",
       "    }\n",
       "\n",
       "    .dataframe tbody tr th {\n",
       "        vertical-align: top;\n",
       "    }\n",
       "\n",
       "    .dataframe thead th {\n",
       "        text-align: right;\n",
       "    }\n",
       "</style>\n",
       "<table border=\"1\" class=\"dataframe\">\n",
       "  <thead>\n",
       "    <tr style=\"text-align: right;\">\n",
       "      <th></th>\n",
       "      <th>Name</th>\n",
       "      <th>Age</th>\n",
       "      <th>City</th>\n",
       "    </tr>\n",
       "  </thead>\n",
       "  <tbody>\n",
       "    <tr>\n",
       "      <th>0</th>\n",
       "      <td>Jennie</td>\n",
       "      <td>25.0</td>\n",
       "      <td>KL</td>\n",
       "    </tr>\n",
       "    <tr>\n",
       "      <th>1</th>\n",
       "      <td>Lalisa</td>\n",
       "      <td>25.0</td>\n",
       "      <td>Penang</td>\n",
       "    </tr>\n",
       "    <tr>\n",
       "      <th>2</th>\n",
       "      <td>Rose</td>\n",
       "      <td>30.0</td>\n",
       "      <td>not available</td>\n",
       "    </tr>\n",
       "    <tr>\n",
       "      <th>3</th>\n",
       "      <td>unknown</td>\n",
       "      <td>22.0</td>\n",
       "      <td>Johor</td>\n",
       "    </tr>\n",
       "    <tr>\n",
       "      <th>4</th>\n",
       "      <td>Jisoo</td>\n",
       "      <td>25.0</td>\n",
       "      <td>KL</td>\n",
       "    </tr>\n",
       "  </tbody>\n",
       "</table>\n",
       "</div>"
      ],
      "text/plain": [
       "      Name   Age           City\n",
       "0   Jennie  25.0             KL\n",
       "1   Lalisa  25.0         Penang\n",
       "2     Rose  30.0  not available\n",
       "3  unknown  22.0          Johor\n",
       "4    Jisoo  25.0             KL"
      ]
     },
     "execution_count": 20,
     "metadata": {},
     "output_type": "execute_result"
    }
   ],
   "source": [
    "#or like this\n",
    "df_new=df.fillna({\n",
    "    'Name':'unknown',\n",
    "    'Age': math.floor(df['Age'].mean().astype(int)),\n",
    "    'City': 'not available'\n",
    "})\n",
    "df_new"
   ]
  },
  {
   "cell_type": "markdown",
   "id": "9280d0e1-602a-4f21-b479-d2c990d07247",
   "metadata": {},
   "source": [
    "## Data Cleaning Exercise\n",
    "    1. Download dataset\n",
    "    2. Get basic dataset info\n",
    "    3: Print('Missing values per column:')\n",
    "    4: Check missing data line by line\n",
    "    5: Drop missing rows (if any)\n",
    "    6: Compare before and after\n",
    "    7: Fill missing values\n",
    "    8: Compare before and after"
   ]
  },
  {
   "cell_type": "code",
   "execution_count": 39,
   "id": "f50948b9-7afa-4096-9113-42efa673d26c",
   "metadata": {},
   "outputs": [
    {
     "data": {
      "text/html": [
       "<div>\n",
       "<style scoped>\n",
       "    .dataframe tbody tr th:only-of-type {\n",
       "        vertical-align: middle;\n",
       "    }\n",
       "\n",
       "    .dataframe tbody tr th {\n",
       "        vertical-align: top;\n",
       "    }\n",
       "\n",
       "    .dataframe thead th {\n",
       "        text-align: right;\n",
       "    }\n",
       "</style>\n",
       "<table border=\"1\" class=\"dataframe\">\n",
       "  <thead>\n",
       "    <tr style=\"text-align: right;\">\n",
       "      <th></th>\n",
       "      <th>gender</th>\n",
       "      <th>study_hours</th>\n",
       "      <th>attendance_pct</th>\n",
       "      <th>math_score</th>\n",
       "      <th>reading_score</th>\n",
       "      <th>final_score</th>\n",
       "    </tr>\n",
       "  </thead>\n",
       "  <tbody>\n",
       "    <tr>\n",
       "      <th>0</th>\n",
       "      <td>male</td>\n",
       "      <td>1.7</td>\n",
       "      <td>83.6</td>\n",
       "      <td>62.0</td>\n",
       "      <td>91.0</td>\n",
       "      <td>38.9</td>\n",
       "    </tr>\n",
       "    <tr>\n",
       "      <th>1</th>\n",
       "      <td>NaN</td>\n",
       "      <td>2.6</td>\n",
       "      <td>91.2</td>\n",
       "      <td>82.0</td>\n",
       "      <td>60.0</td>\n",
       "      <td>37.5</td>\n",
       "    </tr>\n",
       "    <tr>\n",
       "      <th>2</th>\n",
       "      <td>female</td>\n",
       "      <td>2.9</td>\n",
       "      <td>97.5</td>\n",
       "      <td>69.0</td>\n",
       "      <td>57.0</td>\n",
       "      <td>35.0</td>\n",
       "    </tr>\n",
       "    <tr>\n",
       "      <th>3</th>\n",
       "      <td>female</td>\n",
       "      <td>4.8</td>\n",
       "      <td>85.7</td>\n",
       "      <td>78.0</td>\n",
       "      <td>62.0</td>\n",
       "      <td>36.5</td>\n",
       "    </tr>\n",
       "    <tr>\n",
       "      <th>4</th>\n",
       "      <td>male</td>\n",
       "      <td>3.9</td>\n",
       "      <td>-10.0</td>\n",
       "      <td>64.0</td>\n",
       "      <td>95.0</td>\n",
       "      <td>30.9</td>\n",
       "    </tr>\n",
       "  </tbody>\n",
       "</table>\n",
       "</div>"
      ],
      "text/plain": [
       "   gender  study_hours  attendance_pct  math_score  reading_score  final_score\n",
       "0    male          1.7            83.6        62.0           91.0         38.9\n",
       "1     NaN          2.6            91.2        82.0           60.0         37.5\n",
       "2  female          2.9            97.5        69.0           57.0         35.0\n",
       "3  female          4.8            85.7        78.0           62.0         36.5\n",
       "4    male          3.9           -10.0        64.0           95.0         30.9"
      ]
     },
     "execution_count": 39,
     "metadata": {},
     "output_type": "execute_result"
    }
   ],
   "source": [
    "df = pd.read_csv('students_performance_dirty.csv')\n",
    "df.head()"
   ]
  },
  {
   "cell_type": "code",
   "execution_count": 40,
   "id": "d89b2de6-1b4a-46ac-8be9-c4c2d1627bb5",
   "metadata": {},
   "outputs": [
    {
     "name": "stdout",
     "output_type": "stream",
     "text": [
      "<class 'pandas.core.frame.DataFrame'>\n",
      "RangeIndex: 60 entries, 0 to 59\n",
      "Data columns (total 6 columns):\n",
      " #   Column          Non-Null Count  Dtype  \n",
      "---  ------          --------------  -----  \n",
      " 0   gender          52 non-null     object \n",
      " 1   study_hours     52 non-null     float64\n",
      " 2   attendance_pct  60 non-null     float64\n",
      " 3   math_score      60 non-null     float64\n",
      " 4   reading_score   60 non-null     float64\n",
      " 5   final_score     60 non-null     float64\n",
      "dtypes: float64(5), object(1)\n",
      "memory usage: 2.9+ KB\n"
     ]
    }
   ],
   "source": [
    "df.info()"
   ]
  },
  {
   "cell_type": "code",
   "execution_count": 41,
   "id": "7406a57d-1e86-45c1-8412-110c3804a3a5",
   "metadata": {},
   "outputs": [
    {
     "name": "stdout",
     "output_type": "stream",
     "text": [
      "Missing data per column:\n"
     ]
    },
    {
     "data": {
      "text/plain": [
       "gender            8\n",
       "study_hours       8\n",
       "attendance_pct    0\n",
       "math_score        0\n",
       "reading_score     0\n",
       "final_score       0\n",
       "dtype: int64"
      ]
     },
     "execution_count": 41,
     "metadata": {},
     "output_type": "execute_result"
    }
   ],
   "source": [
    "print(\"Missing data per column:\")\n",
    "df.isnull().sum()"
   ]
  },
  {
   "cell_type": "code",
   "execution_count": 47,
   "id": "e9b0aeda-7e23-4a96-a408-129710ae286c",
   "metadata": {
    "scrolled": true
   },
   "outputs": [
    {
     "name": "stdout",
     "output_type": "stream",
     "text": [
      "Row 0: Missing = {'gender': False, 'study_hours': False, 'attendance_pct': False, 'math_score': False, 'reading_score': False, 'final_score': False}\n",
      "Row 1: Missing = {'gender': False, 'study_hours': False, 'attendance_pct': False, 'math_score': False, 'reading_score': False, 'final_score': False}\n",
      "Row 2: Missing = {'gender': False, 'study_hours': False, 'attendance_pct': False, 'math_score': False, 'reading_score': False, 'final_score': False}\n",
      "Row 3: Missing = {'gender': False, 'study_hours': False, 'attendance_pct': False, 'math_score': False, 'reading_score': False, 'final_score': False}\n",
      "Row 4: Missing = {'gender': False, 'study_hours': False, 'attendance_pct': False, 'math_score': False, 'reading_score': False, 'final_score': False}\n",
      "Row 5: Missing = {'gender': False, 'study_hours': False, 'attendance_pct': False, 'math_score': False, 'reading_score': False, 'final_score': False}\n",
      "Row 6: Missing = {'gender': False, 'study_hours': False, 'attendance_pct': False, 'math_score': False, 'reading_score': False, 'final_score': False}\n",
      "Row 7: Missing = {'gender': False, 'study_hours': False, 'attendance_pct': False, 'math_score': False, 'reading_score': False, 'final_score': False}\n",
      "Row 8: Missing = {'gender': False, 'study_hours': False, 'attendance_pct': False, 'math_score': False, 'reading_score': False, 'final_score': False}\n",
      "Row 9: Missing = {'gender': False, 'study_hours': False, 'attendance_pct': False, 'math_score': False, 'reading_score': False, 'final_score': False}\n",
      "Row 10: Missing = {'gender': False, 'study_hours': False, 'attendance_pct': False, 'math_score': False, 'reading_score': False, 'final_score': False}\n",
      "Row 11: Missing = {'gender': False, 'study_hours': False, 'attendance_pct': False, 'math_score': False, 'reading_score': False, 'final_score': False}\n",
      "Row 12: Missing = {'gender': False, 'study_hours': False, 'attendance_pct': False, 'math_score': False, 'reading_score': False, 'final_score': False}\n",
      "Row 13: Missing = {'gender': False, 'study_hours': False, 'attendance_pct': False, 'math_score': False, 'reading_score': False, 'final_score': False}\n",
      "Row 14: Missing = {'gender': False, 'study_hours': False, 'attendance_pct': False, 'math_score': False, 'reading_score': False, 'final_score': False}\n",
      "Row 15: Missing = {'gender': False, 'study_hours': False, 'attendance_pct': False, 'math_score': False, 'reading_score': False, 'final_score': False}\n",
      "Row 16: Missing = {'gender': False, 'study_hours': False, 'attendance_pct': False, 'math_score': False, 'reading_score': False, 'final_score': False}\n",
      "Row 17: Missing = {'gender': False, 'study_hours': False, 'attendance_pct': False, 'math_score': False, 'reading_score': False, 'final_score': False}\n",
      "Row 18: Missing = {'gender': False, 'study_hours': False, 'attendance_pct': False, 'math_score': False, 'reading_score': False, 'final_score': False}\n",
      "Row 19: Missing = {'gender': False, 'study_hours': False, 'attendance_pct': False, 'math_score': False, 'reading_score': False, 'final_score': False}\n",
      "Row 20: Missing = {'gender': False, 'study_hours': False, 'attendance_pct': False, 'math_score': False, 'reading_score': False, 'final_score': False}\n",
      "Row 21: Missing = {'gender': False, 'study_hours': False, 'attendance_pct': False, 'math_score': False, 'reading_score': False, 'final_score': False}\n",
      "Row 22: Missing = {'gender': False, 'study_hours': False, 'attendance_pct': False, 'math_score': False, 'reading_score': False, 'final_score': False}\n",
      "Row 23: Missing = {'gender': False, 'study_hours': False, 'attendance_pct': False, 'math_score': False, 'reading_score': False, 'final_score': False}\n",
      "Row 24: Missing = {'gender': False, 'study_hours': False, 'attendance_pct': False, 'math_score': False, 'reading_score': False, 'final_score': False}\n",
      "Row 25: Missing = {'gender': False, 'study_hours': False, 'attendance_pct': False, 'math_score': False, 'reading_score': False, 'final_score': False}\n",
      "Row 26: Missing = {'gender': False, 'study_hours': False, 'attendance_pct': False, 'math_score': False, 'reading_score': False, 'final_score': False}\n",
      "Row 27: Missing = {'gender': False, 'study_hours': False, 'attendance_pct': False, 'math_score': False, 'reading_score': False, 'final_score': False}\n",
      "Row 28: Missing = {'gender': False, 'study_hours': False, 'attendance_pct': False, 'math_score': False, 'reading_score': False, 'final_score': False}\n",
      "Row 29: Missing = {'gender': False, 'study_hours': False, 'attendance_pct': False, 'math_score': False, 'reading_score': False, 'final_score': False}\n",
      "Row 30: Missing = {'gender': False, 'study_hours': False, 'attendance_pct': False, 'math_score': False, 'reading_score': False, 'final_score': False}\n",
      "Row 31: Missing = {'gender': False, 'study_hours': False, 'attendance_pct': False, 'math_score': False, 'reading_score': False, 'final_score': False}\n",
      "Row 32: Missing = {'gender': False, 'study_hours': False, 'attendance_pct': False, 'math_score': False, 'reading_score': False, 'final_score': False}\n",
      "Row 33: Missing = {'gender': False, 'study_hours': False, 'attendance_pct': False, 'math_score': False, 'reading_score': False, 'final_score': False}\n",
      "Row 34: Missing = {'gender': False, 'study_hours': False, 'attendance_pct': False, 'math_score': False, 'reading_score': False, 'final_score': False}\n",
      "Row 35: Missing = {'gender': False, 'study_hours': False, 'attendance_pct': False, 'math_score': False, 'reading_score': False, 'final_score': False}\n",
      "Row 36: Missing = {'gender': False, 'study_hours': False, 'attendance_pct': False, 'math_score': False, 'reading_score': False, 'final_score': False}\n",
      "Row 37: Missing = {'gender': False, 'study_hours': False, 'attendance_pct': False, 'math_score': False, 'reading_score': False, 'final_score': False}\n",
      "Row 38: Missing = {'gender': False, 'study_hours': False, 'attendance_pct': False, 'math_score': False, 'reading_score': False, 'final_score': False}\n",
      "Row 39: Missing = {'gender': False, 'study_hours': False, 'attendance_pct': False, 'math_score': False, 'reading_score': False, 'final_score': False}\n",
      "Row 40: Missing = {'gender': False, 'study_hours': False, 'attendance_pct': False, 'math_score': False, 'reading_score': False, 'final_score': False}\n",
      "Row 41: Missing = {'gender': False, 'study_hours': False, 'attendance_pct': False, 'math_score': False, 'reading_score': False, 'final_score': False}\n",
      "Row 42: Missing = {'gender': False, 'study_hours': False, 'attendance_pct': False, 'math_score': False, 'reading_score': False, 'final_score': False}\n",
      "Row 43: Missing = {'gender': False, 'study_hours': False, 'attendance_pct': False, 'math_score': False, 'reading_score': False, 'final_score': False}\n",
      "Row 44: Missing = {'gender': False, 'study_hours': False, 'attendance_pct': False, 'math_score': False, 'reading_score': False, 'final_score': False}\n",
      "Row 45: Missing = {'gender': False, 'study_hours': False, 'attendance_pct': False, 'math_score': False, 'reading_score': False, 'final_score': False}\n",
      "Row 46: Missing = {'gender': False, 'study_hours': False, 'attendance_pct': False, 'math_score': False, 'reading_score': False, 'final_score': False}\n",
      "Row 47: Missing = {'gender': False, 'study_hours': False, 'attendance_pct': False, 'math_score': False, 'reading_score': False, 'final_score': False}\n",
      "Row 48: Missing = {'gender': False, 'study_hours': False, 'attendance_pct': False, 'math_score': False, 'reading_score': False, 'final_score': False}\n",
      "Row 49: Missing = {'gender': False, 'study_hours': False, 'attendance_pct': False, 'math_score': False, 'reading_score': False, 'final_score': False}\n",
      "Row 50: Missing = {'gender': False, 'study_hours': False, 'attendance_pct': False, 'math_score': False, 'reading_score': False, 'final_score': False}\n",
      "Row 51: Missing = {'gender': False, 'study_hours': False, 'attendance_pct': False, 'math_score': False, 'reading_score': False, 'final_score': False}\n",
      "Row 52: Missing = {'gender': False, 'study_hours': False, 'attendance_pct': False, 'math_score': False, 'reading_score': False, 'final_score': False}\n",
      "Row 53: Missing = {'gender': False, 'study_hours': False, 'attendance_pct': False, 'math_score': False, 'reading_score': False, 'final_score': False}\n",
      "Row 54: Missing = {'gender': False, 'study_hours': False, 'attendance_pct': False, 'math_score': False, 'reading_score': False, 'final_score': False}\n",
      "Row 55: Missing = {'gender': False, 'study_hours': False, 'attendance_pct': False, 'math_score': False, 'reading_score': False, 'final_score': False}\n",
      "Row 56: Missing = {'gender': False, 'study_hours': False, 'attendance_pct': False, 'math_score': False, 'reading_score': False, 'final_score': False}\n",
      "Row 57: Missing = {'gender': False, 'study_hours': False, 'attendance_pct': False, 'math_score': False, 'reading_score': False, 'final_score': False}\n",
      "Row 58: Missing = {'gender': False, 'study_hours': False, 'attendance_pct': False, 'math_score': False, 'reading_score': False, 'final_score': False}\n",
      "Row 59: Missing = {'gender': False, 'study_hours': False, 'attendance_pct': False, 'math_score': False, 'reading_score': False, 'final_score': False}\n"
     ]
    }
   ],
   "source": [
    "for index, row in df.iterrows():\n",
    "    print(f'Row {index}: Missing = {row.isnull().to_dict()}')"
   ]
  },
  {
   "cell_type": "code",
   "execution_count": 43,
   "id": "dce8aaec-16e1-437f-af2e-c890e6a0dd9d",
   "metadata": {},
   "outputs": [
    {
     "name": "stdout",
     "output_type": "stream",
     "text": [
      "Rows with missing data: \n"
     ]
    },
    {
     "data": {
      "text/html": [
       "<div>\n",
       "<style scoped>\n",
       "    .dataframe tbody tr th:only-of-type {\n",
       "        vertical-align: middle;\n",
       "    }\n",
       "\n",
       "    .dataframe tbody tr th {\n",
       "        vertical-align: top;\n",
       "    }\n",
       "\n",
       "    .dataframe thead th {\n",
       "        text-align: right;\n",
       "    }\n",
       "</style>\n",
       "<table border=\"1\" class=\"dataframe\">\n",
       "  <thead>\n",
       "    <tr style=\"text-align: right;\">\n",
       "      <th></th>\n",
       "      <th>gender</th>\n",
       "      <th>study_hours</th>\n",
       "      <th>attendance_pct</th>\n",
       "      <th>math_score</th>\n",
       "      <th>reading_score</th>\n",
       "      <th>final_score</th>\n",
       "    </tr>\n",
       "  </thead>\n",
       "  <tbody>\n",
       "    <tr>\n",
       "      <th>1</th>\n",
       "      <td>NaN</td>\n",
       "      <td>2.6</td>\n",
       "      <td>91.2</td>\n",
       "      <td>82.0</td>\n",
       "      <td>60.0</td>\n",
       "      <td>37.5</td>\n",
       "    </tr>\n",
       "    <tr>\n",
       "      <th>6</th>\n",
       "      <td>male</td>\n",
       "      <td>NaN</td>\n",
       "      <td>87.1</td>\n",
       "      <td>95.0</td>\n",
       "      <td>78.0</td>\n",
       "      <td>43.4</td>\n",
       "    </tr>\n",
       "    <tr>\n",
       "      <th>7</th>\n",
       "      <td>femle</td>\n",
       "      <td>NaN</td>\n",
       "      <td>70.6</td>\n",
       "      <td>59.0</td>\n",
       "      <td>70.0</td>\n",
       "      <td>32.8</td>\n",
       "    </tr>\n",
       "    <tr>\n",
       "      <th>11</th>\n",
       "      <td>NaN</td>\n",
       "      <td>4.6</td>\n",
       "      <td>86.2</td>\n",
       "      <td>63.0</td>\n",
       "      <td>78.0</td>\n",
       "      <td>36.9</td>\n",
       "    </tr>\n",
       "    <tr>\n",
       "      <th>12</th>\n",
       "      <td>femle</td>\n",
       "      <td>NaN</td>\n",
       "      <td>95.0</td>\n",
       "      <td>59.0</td>\n",
       "      <td>92.0</td>\n",
       "      <td>39.7</td>\n",
       "    </tr>\n",
       "  </tbody>\n",
       "</table>\n",
       "</div>"
      ],
      "text/plain": [
       "   gender  study_hours  attendance_pct  math_score  reading_score  final_score\n",
       "1     NaN          2.6            91.2        82.0           60.0         37.5\n",
       "6    male          NaN            87.1        95.0           78.0         43.4\n",
       "7   femle          NaN            70.6        59.0           70.0         32.8\n",
       "11    NaN          4.6            86.2        63.0           78.0         36.9\n",
       "12  femle          NaN            95.0        59.0           92.0         39.7"
      ]
     },
     "execution_count": 43,
     "metadata": {},
     "output_type": "execute_result"
    }
   ],
   "source": [
    "missing = df[df.isnull().any(axis=1)]\n",
    "print('Rows with missing data: ')\n",
    "missing.head(5)"
   ]
  },
  {
   "cell_type": "code",
   "execution_count": 44,
   "id": "64ced91c-77b7-4154-8e6c-0830f5984bba",
   "metadata": {},
   "outputs": [
    {
     "name": "stdout",
     "output_type": "stream",
     "text": [
      "These rows would be dropped using dropna(): \n"
     ]
    },
    {
     "data": {
      "text/html": [
       "<div>\n",
       "<style scoped>\n",
       "    .dataframe tbody tr th:only-of-type {\n",
       "        vertical-align: middle;\n",
       "    }\n",
       "\n",
       "    .dataframe tbody tr th {\n",
       "        vertical-align: top;\n",
       "    }\n",
       "\n",
       "    .dataframe thead th {\n",
       "        text-align: right;\n",
       "    }\n",
       "</style>\n",
       "<table border=\"1\" class=\"dataframe\">\n",
       "  <thead>\n",
       "    <tr style=\"text-align: right;\">\n",
       "      <th></th>\n",
       "      <th>gender</th>\n",
       "      <th>study_hours</th>\n",
       "      <th>attendance_pct</th>\n",
       "      <th>math_score</th>\n",
       "      <th>reading_score</th>\n",
       "      <th>final_score</th>\n",
       "    </tr>\n",
       "  </thead>\n",
       "  <tbody>\n",
       "    <tr>\n",
       "      <th>1</th>\n",
       "      <td>NaN</td>\n",
       "      <td>2.6</td>\n",
       "      <td>91.2</td>\n",
       "      <td>82.0</td>\n",
       "      <td>60.0</td>\n",
       "      <td>37.5</td>\n",
       "    </tr>\n",
       "    <tr>\n",
       "      <th>6</th>\n",
       "      <td>male</td>\n",
       "      <td>NaN</td>\n",
       "      <td>87.1</td>\n",
       "      <td>95.0</td>\n",
       "      <td>78.0</td>\n",
       "      <td>43.4</td>\n",
       "    </tr>\n",
       "    <tr>\n",
       "      <th>7</th>\n",
       "      <td>femle</td>\n",
       "      <td>NaN</td>\n",
       "      <td>70.6</td>\n",
       "      <td>59.0</td>\n",
       "      <td>70.0</td>\n",
       "      <td>32.8</td>\n",
       "    </tr>\n",
       "    <tr>\n",
       "      <th>11</th>\n",
       "      <td>NaN</td>\n",
       "      <td>4.6</td>\n",
       "      <td>86.2</td>\n",
       "      <td>63.0</td>\n",
       "      <td>78.0</td>\n",
       "      <td>36.9</td>\n",
       "    </tr>\n",
       "    <tr>\n",
       "      <th>12</th>\n",
       "      <td>femle</td>\n",
       "      <td>NaN</td>\n",
       "      <td>95.0</td>\n",
       "      <td>59.0</td>\n",
       "      <td>92.0</td>\n",
       "      <td>39.7</td>\n",
       "    </tr>\n",
       "  </tbody>\n",
       "</table>\n",
       "</div>"
      ],
      "text/plain": [
       "   gender  study_hours  attendance_pct  math_score  reading_score  final_score\n",
       "1     NaN          2.6            91.2        82.0           60.0         37.5\n",
       "6    male          NaN            87.1        95.0           78.0         43.4\n",
       "7   femle          NaN            70.6        59.0           70.0         32.8\n",
       "11    NaN          4.6            86.2        63.0           78.0         36.9\n",
       "12  femle          NaN            95.0        59.0           92.0         39.7"
      ]
     },
     "execution_count": 44,
     "metadata": {},
     "output_type": "execute_result"
    }
   ],
   "source": [
    "drop_out = df[df.isnull().any(axis=1)]\n",
    "print('These rows would be dropped using dropna(): ')\n",
    "drop_out.head(5)"
   ]
  },
  {
   "cell_type": "code",
   "execution_count": 45,
   "id": "6c032674-616f-4b33-b984-0a9eb27cc83d",
   "metadata": {},
   "outputs": [
    {
     "name": "stdout",
     "output_type": "stream",
     "text": [
      "After dropna(): \n"
     ]
    },
    {
     "data": {
      "text/html": [
       "<div>\n",
       "<style scoped>\n",
       "    .dataframe tbody tr th:only-of-type {\n",
       "        vertical-align: middle;\n",
       "    }\n",
       "\n",
       "    .dataframe tbody tr th {\n",
       "        vertical-align: top;\n",
       "    }\n",
       "\n",
       "    .dataframe thead th {\n",
       "        text-align: right;\n",
       "    }\n",
       "</style>\n",
       "<table border=\"1\" class=\"dataframe\">\n",
       "  <thead>\n",
       "    <tr style=\"text-align: right;\">\n",
       "      <th></th>\n",
       "      <th>gender</th>\n",
       "      <th>study_hours</th>\n",
       "      <th>attendance_pct</th>\n",
       "      <th>math_score</th>\n",
       "      <th>reading_score</th>\n",
       "      <th>final_score</th>\n",
       "    </tr>\n",
       "  </thead>\n",
       "  <tbody>\n",
       "    <tr>\n",
       "      <th>0</th>\n",
       "      <td>male</td>\n",
       "      <td>1.7</td>\n",
       "      <td>83.6</td>\n",
       "      <td>62.0</td>\n",
       "      <td>91.0</td>\n",
       "      <td>38.9</td>\n",
       "    </tr>\n",
       "    <tr>\n",
       "      <th>2</th>\n",
       "      <td>female</td>\n",
       "      <td>2.9</td>\n",
       "      <td>97.5</td>\n",
       "      <td>69.0</td>\n",
       "      <td>57.0</td>\n",
       "      <td>35.0</td>\n",
       "    </tr>\n",
       "    <tr>\n",
       "      <th>3</th>\n",
       "      <td>female</td>\n",
       "      <td>4.8</td>\n",
       "      <td>85.7</td>\n",
       "      <td>78.0</td>\n",
       "      <td>62.0</td>\n",
       "      <td>36.5</td>\n",
       "    </tr>\n",
       "    <tr>\n",
       "      <th>4</th>\n",
       "      <td>male</td>\n",
       "      <td>3.9</td>\n",
       "      <td>-10.0</td>\n",
       "      <td>64.0</td>\n",
       "      <td>95.0</td>\n",
       "      <td>30.9</td>\n",
       "    </tr>\n",
       "    <tr>\n",
       "      <th>5</th>\n",
       "      <td>male</td>\n",
       "      <td>1.4</td>\n",
       "      <td>93.7</td>\n",
       "      <td>77.0</td>\n",
       "      <td>72.0</td>\n",
       "      <td>39.0</td>\n",
       "    </tr>\n",
       "  </tbody>\n",
       "</table>\n",
       "</div>"
      ],
      "text/plain": [
       "   gender  study_hours  attendance_pct  math_score  reading_score  final_score\n",
       "0    male          1.7            83.6        62.0           91.0         38.9\n",
       "2  female          2.9            97.5        69.0           57.0         35.0\n",
       "3  female          4.8            85.7        78.0           62.0         36.5\n",
       "4    male          3.9           -10.0        64.0           95.0         30.9\n",
       "5    male          1.4            93.7        77.0           72.0         39.0"
      ]
     },
     "execution_count": 45,
     "metadata": {},
     "output_type": "execute_result"
    }
   ],
   "source": [
    "cleaned_df = df.dropna()\n",
    "print('After dropna(): ')\n",
    "cleaned_df.head(5)"
   ]
  },
  {
   "cell_type": "code",
   "execution_count": 46,
   "id": "ad5a361a-a638-4b2a-98d9-82cbf116d384",
   "metadata": {},
   "outputs": [
    {
     "name": "stdout",
     "output_type": "stream",
     "text": [
      "After fillna(): \n"
     ]
    },
    {
     "data": {
      "text/html": [
       "<div>\n",
       "<style scoped>\n",
       "    .dataframe tbody tr th:only-of-type {\n",
       "        vertical-align: middle;\n",
       "    }\n",
       "\n",
       "    .dataframe tbody tr th {\n",
       "        vertical-align: top;\n",
       "    }\n",
       "\n",
       "    .dataframe thead th {\n",
       "        text-align: right;\n",
       "    }\n",
       "</style>\n",
       "<table border=\"1\" class=\"dataframe\">\n",
       "  <thead>\n",
       "    <tr style=\"text-align: right;\">\n",
       "      <th></th>\n",
       "      <th>gender</th>\n",
       "      <th>study_hours</th>\n",
       "      <th>attendance_pct</th>\n",
       "      <th>math_score</th>\n",
       "      <th>reading_score</th>\n",
       "      <th>final_score</th>\n",
       "    </tr>\n",
       "  </thead>\n",
       "  <tbody>\n",
       "    <tr>\n",
       "      <th>0</th>\n",
       "      <td>male</td>\n",
       "      <td>1.7</td>\n",
       "      <td>83.6</td>\n",
       "      <td>62.0</td>\n",
       "      <td>91.0</td>\n",
       "      <td>38.9</td>\n",
       "    </tr>\n",
       "    <tr>\n",
       "      <th>1</th>\n",
       "      <td>Unavailable</td>\n",
       "      <td>2.6</td>\n",
       "      <td>91.2</td>\n",
       "      <td>82.0</td>\n",
       "      <td>60.0</td>\n",
       "      <td>37.5</td>\n",
       "    </tr>\n",
       "    <tr>\n",
       "      <th>2</th>\n",
       "      <td>female</td>\n",
       "      <td>2.9</td>\n",
       "      <td>97.5</td>\n",
       "      <td>69.0</td>\n",
       "      <td>57.0</td>\n",
       "      <td>35.0</td>\n",
       "    </tr>\n",
       "    <tr>\n",
       "      <th>3</th>\n",
       "      <td>female</td>\n",
       "      <td>4.8</td>\n",
       "      <td>85.7</td>\n",
       "      <td>78.0</td>\n",
       "      <td>62.0</td>\n",
       "      <td>36.5</td>\n",
       "    </tr>\n",
       "    <tr>\n",
       "      <th>4</th>\n",
       "      <td>male</td>\n",
       "      <td>3.9</td>\n",
       "      <td>-10.0</td>\n",
       "      <td>64.0</td>\n",
       "      <td>95.0</td>\n",
       "      <td>30.9</td>\n",
       "    </tr>\n",
       "  </tbody>\n",
       "</table>\n",
       "</div>"
      ],
      "text/plain": [
       "        gender  study_hours  attendance_pct  math_score  reading_score  \\\n",
       "0         male          1.7            83.6        62.0           91.0   \n",
       "1  Unavailable          2.6            91.2        82.0           60.0   \n",
       "2       female          2.9            97.5        69.0           57.0   \n",
       "3       female          4.8            85.7        78.0           62.0   \n",
       "4         male          3.9           -10.0        64.0           95.0   \n",
       "\n",
       "   final_score  \n",
       "0         38.9  \n",
       "1         37.5  \n",
       "2         35.0  \n",
       "3         36.5  \n",
       "4         30.9  "
      ]
     },
     "execution_count": 46,
     "metadata": {},
     "output_type": "execute_result"
    }
   ],
   "source": [
    "df['gender'] = df['gender'].fillna('Unavailable')\n",
    "df['study_hours'] = df['study_hours'].fillna(df['study_hours'].mean())\n",
    "print('After fillna(): ')\n",
    "df.head(5)"
   ]
  },
  {
   "cell_type": "code",
   "execution_count": null,
   "id": "f518d618-69fc-4d20-8455-550d7023ce9d",
   "metadata": {},
   "outputs": [],
   "source": []
  }
 ],
 "metadata": {
  "kernelspec": {
   "display_name": "Python [conda env:base] *",
   "language": "python",
   "name": "conda-base-py"
  },
  "language_info": {
   "codemirror_mode": {
    "name": "ipython",
    "version": 3
   },
   "file_extension": ".py",
   "mimetype": "text/x-python",
   "name": "python",
   "nbconvert_exporter": "python",
   "pygments_lexer": "ipython3",
   "version": "3.13.5"
  }
 },
 "nbformat": 4,
 "nbformat_minor": 5
}
