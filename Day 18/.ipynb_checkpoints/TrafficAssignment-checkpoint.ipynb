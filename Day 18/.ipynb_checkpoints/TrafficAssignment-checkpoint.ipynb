{
 "cells": [
  {
   "cell_type": "code",
   "execution_count": 51,
   "id": "cf5efe73-1671-4285-b273-d4ca29bddcb0",
   "metadata": {},
   "outputs": [
    {
     "name": "stdout",
     "output_type": "stream",
     "text": [
      "Import Done\n"
     ]
    }
   ],
   "source": [
    "import numpy as np\n",
    "import random\n",
    "print('Import Done')"
   ]
  },
  {
   "cell_type": "code",
   "execution_count": 52,
   "id": "62c1630c-f68f-4297-a89a-afff86aa6eb8",
   "metadata": {},
   "outputs": [
    {
     "name": "stdout",
     "output_type": "stream",
     "text": [
      "Traffic:  [0 1 2 3 4]\n",
      "Action:  ['GREEN', 'RED']\n"
     ]
    }
   ],
   "source": [
    "states=np.arange(5)\n",
    "actions=['GREEN','RED']\n",
    "print('Traffic: ',states)\n",
    "print('Action: ',actions)"
   ]
  },
  {
   "cell_type": "code",
   "execution_count": 53,
   "id": "8343f71d-7867-405b-b317-2fd2b5010e8d",
   "metadata": {},
   "outputs": [
    {
     "name": "stdout",
     "output_type": "stream",
     "text": [
      "Q-table shape:  (5, 2)\n"
     ]
    }
   ],
   "source": [
    "Q = np.zeros((len(states),len(actions)))\n",
    "\n",
    "alpha=0.1 #learning rate\n",
    "gamma=0.9 #discount factor\n",
    "epsilon=0.2 #exploration rate\n",
    "episodes=300 #training runs\n",
    "\n",
    "print('Q-table shape: ',Q.shape)"
   ]
  },
  {
   "cell_type": "code",
   "execution_count": 59,
   "id": "dca71515-5c7c-4664-b3c8-d823ce3d1c4c",
   "metadata": {},
   "outputs": [],
   "source": [
    "def get_reward(traffic,action):\n",
    "    if traffic == 4 and action == 'GREEN':\n",
    "        return 10  # Clear congestion\n",
    "    elif traffic == 4 and action == 'RED':\n",
    "        return -10  # Makes congestion worse\n",
    "    elif traffic == 0 and action == 'RED':\n",
    "        return 5  # Save energy on empty road\n",
    "    elif traffic == 0 and action == 'GREEN':\n",
    "        return -5  # Waste power\n",
    "    elif traffic == 2:\n",
    "        return 1  # Neutral for moderate traffic\n",
    "    else:\n",
    "        return 0  # Default reward\n"
   ]
  },
  {
   "cell_type": "code",
   "execution_count": 60,
   "id": "5fb42bd3-1745-4c13-81c9-9e1e109c732b",
   "metadata": {},
   "outputs": [],
   "source": [
    "def next_traffic(traffic,action):\n",
    "    \n",
    "    if action=='GREEN': \n",
    "        traffic += 1\n",
    "    else:\n",
    "        traffic -= 1\n",
    "    return int(np.clip(traffic, 0, 4))"
   ]
  },
  {
   "cell_type": "code",
   "execution_count": 61,
   "id": "62e313e1-3ed2-4f8c-8e43-c4e39a81a1d4",
   "metadata": {},
   "outputs": [
    {
     "name": "stdout",
     "output_type": "stream",
     "text": [
      "Training Done\n"
     ]
    }
   ],
   "source": [
    "for ep in range(episodes):\n",
    "    traffic=random.choice(states)\n",
    "\n",
    "    for _ in range(20): \n",
    "        if random.uniform(0,1)<epsilon:\n",
    "            action=random.choice(actions)\n",
    "        else:\n",
    "            action=actions[np.argmax(Q[traffic])]\n",
    "\n",
    "        \n",
    "        reward=get_reward(traffic,action)\n",
    "        next_state=next_traffic(traffic,action)\n",
    "\n",
    "        a=actions.index(action)\n",
    "        best_next=np.max(Q[next_state])\n",
    "        Q[traffic, a] += alpha * (reward + gamma * best_next - Q[traffic,a])\n",
    "\n",
    "        traffic=next_state\n",
    "        \n",
    "print('Training Done')"
   ]
  },
  {
   "cell_type": "code",
   "execution_count": null,
   "id": "f7c75479-af27-4301-b4af-6c0af375ad74",
   "metadata": {},
   "outputs": [],
   "source": [
    "try:\n",
    "    traffic=int(input('Enter Traffic Level (0-4)'))\n",
    "    if traffic<0 or traffic>4:\n",
    "             raise ValueError('Traffic Level out of range')\n",
    "\n",
    "except ValueError as m:\n",
    "    print(m)\n",
    "    traffic=2\n",
    "    print('Default level set to Moderate')\n",
    "    \n",
    "print(f'\\n Starting with level: {traffic}')\n",
    "\n",
    "for step in range(10):\n",
    "    action = actions[np.argmax(Q[traffic])]\n",
    "    print(f'Step {step+1}: Traffic={traffic} -> Action={action}')\n",
    "    traffic = next_traffic(traffic,action)\n",
    "    \n",
    "print('\\nSimulation Complete.')"
   ]
  },
  {
   "cell_type": "code",
   "execution_count": null,
   "id": "1159f913-7259-4a06-87f0-a0d430916792",
   "metadata": {},
   "outputs": [],
   "source": []
  },
  {
   "cell_type": "code",
   "execution_count": null,
   "id": "8878cde5-6666-40fe-9bda-39bbef2835b5",
   "metadata": {},
   "outputs": [],
   "source": []
  }
 ],
 "metadata": {
  "kernelspec": {
   "display_name": "Python [conda env:base] *",
   "language": "python",
   "name": "conda-base-py"
  },
  "language_info": {
   "codemirror_mode": {
    "name": "ipython",
    "version": 3
   },
   "file_extension": ".py",
   "mimetype": "text/x-python",
   "name": "python",
   "nbconvert_exporter": "python",
   "pygments_lexer": "ipython3",
   "version": "3.13.5"
  }
 },
 "nbformat": 4,
 "nbformat_minor": 5
}
