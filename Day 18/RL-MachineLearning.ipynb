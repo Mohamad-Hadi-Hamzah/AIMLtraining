{
 "cells": [
  {
   "cell_type": "code",
   "execution_count": 1,
   "id": "74171072-70b5-4eef-8ce4-cf91d7ab5af2",
   "metadata": {},
   "outputs": [],
   "source": [
    "import numpy as np\n",
    "import random"
   ]
  },
  {
   "cell_type": "code",
   "execution_count": 8,
   "id": "ece450e3-ffba-443f-9aed-af7cb8aff221",
   "metadata": {},
   "outputs": [
    {
     "data": {
      "text/plain": [
       "array([16, 17, 18, 19, 20, 21, 22, 23, 24, 25, 26, 27, 28, 29, 30])"
      ]
     },
     "execution_count": 8,
     "metadata": {},
     "output_type": "execute_result"
    }
   ],
   "source": [
    "# Step 1: Find out states and action\n",
    "states=np.arange(16,31)\n",
    "actions=['ON','OFF']\n",
    "states"
   ]
  },
  {
   "cell_type": "code",
   "execution_count": 9,
   "id": "a6c39b98-958b-45a5-8184-36c7c38d9f60",
   "metadata": {},
   "outputs": [
    {
     "data": {
      "text/plain": [
       "['ON', 'OFF']"
      ]
     },
     "execution_count": 9,
     "metadata": {},
     "output_type": "execute_result"
    }
   ],
   "source": [
    "actions"
   ]
  },
  {
   "cell_type": "code",
   "execution_count": 12,
   "id": "8994b0f0-8e98-4d94-84d0-4e2fbbc01748",
   "metadata": {},
   "outputs": [],
   "source": [
    "# Step 2: Create Qtable set alpha, gama, epsilor, episodes\n",
    "# Q table is [s,a] state,action\n",
    "Q=np.zeros((len(states),len(actions)))"
   ]
  },
  {
   "cell_type": "code",
   "execution_count": 25,
   "id": "e64e5a09-87c1-42c7-ae72-cf0dfcdc827a",
   "metadata": {},
   "outputs": [],
   "source": [
    "#alpha: (0-1)\n",
    "#gama: 1\n",
    "#epsilan:probability\n",
    "#episodes: independent training runs ()\n",
    "alpha=0.1\n",
    "gamma=0.9\n",
    "epsilon=0.2\n",
    "episodes=300"
   ]
  },
  {
   "cell_type": "code",
   "execution_count": 26,
   "id": "5e64d57d-552c-46e5-a204-00b2e5d1015d",
   "metadata": {},
   "outputs": [],
   "source": [
    "# Step 3: Write Reward Function\n",
    "def get_reward(temp, action):\n",
    "    if 20 <= temp <=24:\n",
    "        reward = 10 #comfortable\n",
    "    else:\n",
    "        reward = -5 #uncomfortable\n",
    "    if action == 'ON':\n",
    "        reward -= 2 #cost of energy\n",
    "    return reward"
   ]
  },
  {
   "cell_type": "code",
   "execution_count": 27,
   "id": "064a6cd0-643b-4aff-9c14-b60ccb9aba4e",
   "metadata": {},
   "outputs": [],
   "source": [
    "# Step 4 Environment Dynamic Change (e.g. Temperature)\n",
    "def next_temp(temp,action):\n",
    "    if action=='ON':\n",
    "        temp-=random.choice([1,2])\n",
    "    else:\n",
    "        temp+=random.choice([0,1,2])\n",
    "    return int(np.clip(temp,16,30))"
   ]
  },
  {
   "cell_type": "code",
   "execution_count": 28,
   "id": "1b3defa8-3342-42c1-a254-c727e77661b3",
   "metadata": {},
   "outputs": [
    {
     "name": "stdout",
     "output_type": "stream",
     "text": [
      "Training Done\n"
     ]
    }
   ],
   "source": [
    "# Step 5 Training Loop\n",
    "for ep in range(episodes):\n",
    "    temp=random.choice(states)\n",
    "    done=False\n",
    "    for _ in range(20): # Limit steps per episode\n",
    "        # choose action (epsilon-greedy)\n",
    "        if random.uniform(0,1)<epsilon:\n",
    "            action=random.choice(actions)\n",
    "        else:\n",
    "            action=actions[np.argmax(Q[temp-16])]\n",
    "\n",
    "        next_state=next_temp(temp,action)\n",
    "        reward=get_reward(next_state,action)\n",
    "\n",
    "        a=actions.index(action)\n",
    "        best_next=np.max(Q[next_state-16])\n",
    "        Q[temp - 16, a] += alpha * (reward + gamma * best_next - Q[temp-16,a])\n",
    "\n",
    "        temp=next_state\n",
    "        \n",
    "print('Training Done')"
   ]
  },
  {
   "cell_type": "code",
   "execution_count": 29,
   "id": "86107ebc-d519-4e0e-a08e-515a8ae2c0bc",
   "metadata": {},
   "outputs": [
    {
     "name": "stdout",
     "output_type": "stream",
     "text": [
      "Step 1: Temp=28C -> Action=ON\n",
      "Step 2: Temp=26C -> Action=ON\n",
      "Step 3: Temp=24C -> Action=ON\n",
      "Step 4: Temp=23C -> Action=ON\n",
      "Step 5: Temp=22C -> Action=OFF\n",
      "Step 6: Temp=22C -> Action=OFF\n",
      "Step 7: Temp=22C -> Action=OFF\n",
      "Step 8: Temp=24C -> Action=ON\n",
      "Step 9: Temp=23C -> Action=ON\n",
      "Step 10: Temp=22C -> Action=OFF\n"
     ]
    }
   ],
   "source": [
    "temp = 28\n",
    "for step in range(10):\n",
    "    action=actions[np.argmax(Q[temp-16])]\n",
    "    print(f'Step {step+1}: Temp={temp}C -> Action={action}')\n",
    "    temp = next_temp(temp,action)"
   ]
  },
  {
   "cell_type": "code",
   "execution_count": 32,
   "id": "3405030b-be3c-40e2-b50d-45e649a4735a",
   "metadata": {},
   "outputs": [
    {
     "name": "stdin",
     "output_type": "stream",
     "text": [
      "Enter Starting Room Temp (16-30) 20\n"
     ]
    },
    {
     "name": "stdout",
     "output_type": "stream",
     "text": [
      "\n",
      " Starting temp: 20 C\n",
      "Step 1: Temp=20C -> Action=OFF\n",
      "\n",
      "Done\n",
      "Step 2: Temp=20C -> Action=OFF\n",
      "\n",
      "Done\n",
      "Step 3: Temp=20C -> Action=OFF\n",
      "\n",
      "Done\n",
      "Step 4: Temp=20C -> Action=OFF\n",
      "\n",
      "Done\n",
      "Step 5: Temp=21C -> Action=OFF\n",
      "\n",
      "Done\n",
      "Step 6: Temp=22C -> Action=OFF\n",
      "\n",
      "Done\n",
      "Step 7: Temp=22C -> Action=OFF\n",
      "\n",
      "Done\n",
      "Step 8: Temp=23C -> Action=ON\n",
      "\n",
      "Done\n",
      "Step 9: Temp=22C -> Action=OFF\n",
      "\n",
      "Done\n",
      "Step 10: Temp=23C -> Action=ON\n",
      "\n",
      "Done\n"
     ]
    }
   ],
   "source": [
    "try:\n",
    "    temp=int(input('Enter Starting Room Temp (16-30)'))\n",
    "    if temp<16 or temp>30:\n",
    "             raise ValueError('Temp out of range')\n",
    "\n",
    "except ValueError as ve:\n",
    "    print(ve)\n",
    "    temp=25\n",
    "    print('Set to Default 25 C')\n",
    "print(f'\\n Starting temp: {temp} C')\n",
    "for step in range(10):\n",
    "    action = actions[np.argmax(Q[temp-16])]\n",
    "    print(f'Step {step+1}: Temp={temp}C -> Action={action}')\n",
    "    temp = next_temp(temp,action)\n",
    "    print('\\nDone')"
   ]
  },
  {
   "cell_type": "code",
   "execution_count": null,
   "id": "07dee4ec-c7d4-4d65-8629-3b2e5f5be7b0",
   "metadata": {},
   "outputs": [],
   "source": []
  }
 ],
 "metadata": {
  "kernelspec": {
   "display_name": "Python [conda env:base] *",
   "language": "python",
   "name": "conda-base-py"
  },
  "language_info": {
   "codemirror_mode": {
    "name": "ipython",
    "version": 3
   },
   "file_extension": ".py",
   "mimetype": "text/x-python",
   "name": "python",
   "nbconvert_exporter": "python",
   "pygments_lexer": "ipython3",
   "version": "3.13.5"
  }
 },
 "nbformat": 4,
 "nbformat_minor": 5
}
