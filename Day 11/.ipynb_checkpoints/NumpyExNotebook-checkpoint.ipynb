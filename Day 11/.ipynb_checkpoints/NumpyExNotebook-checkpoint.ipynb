{
 "cells": [
  {
   "cell_type": "markdown",
   "id": "eb0f3ebf-23cb-48de-8855-9b88e3b05974",
   "metadata": {},
   "source": [
    "# Numpy Introduvtion and usage\n",
    "## we will use NumPy in Jupyter Noteboook"
   ]
  },
  {
   "cell_type": "markdown",
   "id": "de66ac14-035f-4ead-a90f-f90ad0a34ff3",
   "metadata": {},
   "source": [
    "# One Dimensional Array (1-D)"
   ]
  },
  {
   "cell_type": "code",
   "execution_count": 2,
   "id": "2f4fc07f-d590-40f5-8119-953266765080",
   "metadata": {},
   "outputs": [],
   "source": [
    "import numpy as np"
   ]
  },
  {
   "cell_type": "code",
   "execution_count": 3,
   "id": "d420631b-bc0d-40ec-9897-339d93d2c502",
   "metadata": {},
   "outputs": [],
   "source": [
    "array1=np.array([10,20,30,40,50])"
   ]
  },
  {
   "cell_type": "code",
   "execution_count": 4,
   "id": "095419d7-599d-4e3f-835b-1ac868650eee",
   "metadata": {},
   "outputs": [
    {
     "name": "stdout",
     "output_type": "stream",
     "text": [
      "[10 20 30 40 50]\n"
     ]
    }
   ],
   "source": [
    "print(array1)"
   ]
  },
  {
   "cell_type": "markdown",
   "id": "f9596167-ca02-4f7b-adbf-94270c8e9fc6",
   "metadata": {},
   "source": [
    "# Two Dimensional Array (2-D)"
   ]
  },
  {
   "cell_type": "code",
   "execution_count": 8,
   "id": "967dc8c0-739c-4979-8147-66e95b9d4702",
   "metadata": {},
   "outputs": [],
   "source": [
    "array_two=np.array([[10,20,30],[40,50,70]])"
   ]
  },
  {
   "cell_type": "code",
   "execution_count": 10,
   "id": "46e612a2-558e-44c0-9c2a-502f6fa7e306",
   "metadata": {},
   "outputs": [
    {
     "name": "stdout",
     "output_type": "stream",
     "text": [
      "[[10 20 30]\n",
      " [40 50 70]]\n"
     ]
    }
   ],
   "source": [
    "print(array_two)"
   ]
  },
  {
   "cell_type": "markdown",
   "id": "a624d225-8196-4524-ac50-9baef965caf9",
   "metadata": {},
   "source": [
    "# Three Dimensional Array (3-D)"
   ]
  },
  {
   "cell_type": "code",
   "execution_count": 12,
   "id": "f144458b-fe6c-4d18-9117-da353dccce3b",
   "metadata": {},
   "outputs": [],
   "source": [
    "array_three=np.array([[[10,20,30],[40,50,70]],[[10,20,30],[40,50,70]]])"
   ]
  },
  {
   "cell_type": "code",
   "execution_count": 13,
   "id": "3c7b55e2-9295-4a6b-a379-53b6c0ed36e1",
   "metadata": {},
   "outputs": [
    {
     "name": "stdout",
     "output_type": "stream",
     "text": [
      "[[[10 20 30]\n",
      "  [40 50 70]]\n",
      "\n",
      " [[10 20 30]\n",
      "  [40 50 70]]]\n"
     ]
    }
   ],
   "source": [
    "print(array_three)"
   ]
  },
  {
   "cell_type": "markdown",
   "id": "a8c92cad-804b-48f3-a2e1-258a7b495547",
   "metadata": {},
   "source": [
    "## Find out Dimension of NumPy Array"
   ]
  },
  {
   "cell_type": "code",
   "execution_count": 16,
   "id": "3e10306d-8dca-4123-a2f8-e553e7811abe",
   "metadata": {},
   "outputs": [
    {
     "name": "stdout",
     "output_type": "stream",
     "text": [
      "First Array Dimension: \t 1\n"
     ]
    }
   ],
   "source": [
    "print('First Array Dimension: \\t', array1.ndim)"
   ]
  },
  {
   "cell_type": "code",
   "execution_count": 17,
   "id": "3fe667d3-e949-44d5-bd23-4316bc9f12c3",
   "metadata": {},
   "outputs": [
    {
     "name": "stdout",
     "output_type": "stream",
     "text": [
      "Second Array Dimension: \t 2\n"
     ]
    }
   ],
   "source": [
    "print('Second Array Dimension: \\t', array_two.ndim)"
   ]
  },
  {
   "cell_type": "code",
   "execution_count": 18,
   "id": "db0140ea-e195-467f-883c-83807b6438a0",
   "metadata": {},
   "outputs": [
    {
     "name": "stdout",
     "output_type": "stream",
     "text": [
      "Third Array Dimension: \t 3\n"
     ]
    }
   ],
   "source": [
    "print('Third Array Dimension: \\t', array_three.ndim)"
   ]
  },
  {
   "cell_type": "markdown",
   "id": "f61eed44-b308-49d7-b7ce-72eb54817503",
   "metadata": {},
   "source": [
    "# Write an array of 5 students mark using NumPy\n",
    "## Marks are: 80,70,75,99,89"
   ]
  },
  {
   "cell_type": "code",
   "execution_count": 19,
   "id": "65855aad-6813-4ddd-a772-9b21c74db989",
   "metadata": {},
   "outputs": [],
   "source": [
    "array_students=np.array([80,70,75,99,89])"
   ]
  },
  {
   "cell_type": "code",
   "execution_count": 20,
   "id": "2e18e0df-a6c9-44d1-ac12-b2495717e54f",
   "metadata": {},
   "outputs": [
    {
     "name": "stdout",
     "output_type": "stream",
     "text": [
      "[80 70 75 99 89]\n"
     ]
    }
   ],
   "source": [
    "print(array_students)"
   ]
  },
  {
   "cell_type": "markdown",
   "id": "d8efd3b2-0d11-483b-bb1d-8be3d982b90d",
   "metadata": {},
   "source": [
    "# Write an array: to take marks of 5 students in 3 subjects using NumPy\n",
    "## Math, English, Chemistry\n",
    "## [[50,45,49],[40,42,45],[35,40,46],[39,40,45],[48,40,40]]"
   ]
  },
  {
   "cell_type": "code",
   "execution_count": 21,
   "id": "545b7d5d-e9e3-4b16-bb8f-f2d95a3c6281",
   "metadata": {},
   "outputs": [
    {
     "name": "stdout",
     "output_type": "stream",
     "text": [
      "2D Array Example\n",
      "[[50 45 49]\n",
      " [40 42 45]\n",
      " [35 40 46]\n",
      " [39 40 45]\n",
      " [48 40 40]]\n"
     ]
    }
   ],
   "source": [
    "array_marks_subject=np.array([[50,45,49],[40,42,45],[35,40,46],[39,40,45],[48,40,40]])\n",
    "print('2D Array Example')\n",
    "print(array_marks_subject)"
   ]
  },
  {
   "cell_type": "markdown",
   "id": "3e93c532-d8e8-4946-be3e-b390af81feb7",
   "metadata": {},
   "source": [
    "# Write an array: to take marks of 4 students in 3 subjects for 2 semesters using NumPy\n",
    "    ## Students name are:'Jennie','Lalisa','Jisoo','Rose'\n",
    "    ## Math, English, Chemistry\n",
    "    ## Two Semester : Sem1 , Sem2\n",
    "    ## 4*3*2\n",
    "    ## [[[85,88],[78,82],[90,95]],[[76,70],[40,45],[90,90]],[[80,86],[78,82],[90,95]],[[85,88],[78,82],[70,90]]]"
   ]
  },
  {
   "cell_type": "code",
   "execution_count": 22,
   "id": "e7eaddbc-a04b-43e8-a74c-41a499bd24e9",
   "metadata": {},
   "outputs": [],
   "source": [
    "array_students_semester=np.array([[[85,88],[78,82],[90,95]],\n",
    "                                  [[76,70],[40,45],[90,90]],\n",
    "                                  [[80,86],[78,82],[90,95]],\n",
    "                                  [[85,88],[78,82],[70,90]]])"
   ]
  },
  {
   "cell_type": "code",
   "execution_count": 23,
   "id": "fe7e8ae8-acb4-47e5-a0f4-7dafea294380",
   "metadata": {},
   "outputs": [
    {
     "name": "stdout",
     "output_type": "stream",
     "text": [
      "[[[85 88]\n",
      "  [78 82]\n",
      "  [90 95]]\n",
      "\n",
      " [[76 70]\n",
      "  [40 45]\n",
      "  [90 90]]\n",
      "\n",
      " [[80 86]\n",
      "  [78 82]\n",
      "  [90 95]]\n",
      "\n",
      " [[85 88]\n",
      "  [78 82]\n",
      "  [70 90]]]\n"
     ]
    }
   ],
   "source": [
    "print(array_students_semester)"
   ]
  },
  {
   "cell_type": "markdown",
   "id": "80ae1908-9642-4be8-a63c-225568865bc5",
   "metadata": {},
   "source": [
    "# Write an array: to take weather of 2 cities in 3 day for 3 times in a day\n",
    "    ## Cities name are:'Kl','Tokyo'\n",
    "    ## Saturday, Sunday, Monday\n",
    "    ## Morning, Noon, Evening\n",
    "# Create one 3D Array using numPy"
   ]
  },
  {
   "cell_type": "code",
   "execution_count": 37,
   "id": "75ebedc0-5b72-4adb-b8ea-1a880f271d41",
   "metadata": {},
   "outputs": [],
   "source": [
    "weather=np.array([[[25,-8],[25,-2],[23,-5]],\n",
    "                  [[22,0],[28,-3],[29,4]],\n",
    "                  [[20,2],[30,2],[28,5]]])"
   ]
  },
  {
   "cell_type": "code",
   "execution_count": 38,
   "id": "c70c7997-2075-4f1d-8aab-f600c37b2d52",
   "metadata": {},
   "outputs": [
    {
     "name": "stdout",
     "output_type": "stream",
     "text": [
      "[[[25 -8]\n",
      "  [25 -2]\n",
      "  [23 -5]]\n",
      "\n",
      " [[22  0]\n",
      "  [28 -3]\n",
      "  [29  4]]\n",
      "\n",
      " [[20  2]\n",
      "  [30  2]\n",
      "  [28  5]]]\n"
     ]
    }
   ],
   "source": [
    "print(weather)"
   ]
  },
  {
   "cell_type": "code",
   "execution_count": 40,
   "id": "8a9e17df-6aa2-4865-8dd8-61d95db75a4f",
   "metadata": {},
   "outputs": [],
   "source": [
    "weathers=np.array([[[25,28,27],[25,22,22],[23,25,23]],\n",
    "                  [[-8,0,1],[8,-3,2],[9,4,3]]])"
   ]
  },
  {
   "cell_type": "code",
   "execution_count": 41,
   "id": "85585997-dec0-44bf-bbb3-7b468a142e5d",
   "metadata": {},
   "outputs": [
    {
     "name": "stdout",
     "output_type": "stream",
     "text": [
      "[[[25 28 27]\n",
      "  [25 22 22]\n",
      "  [23 25 23]]\n",
      "\n",
      " [[-8  0  1]\n",
      "  [ 8 -3  2]\n",
      "  [ 9  4  3]]]\n"
     ]
    }
   ],
   "source": [
    "print(weathers)"
   ]
  },
  {
   "cell_type": "markdown",
   "id": "41426fc8-da6a-4a8e-9325-4835a3d08057",
   "metadata": {},
   "source": [
    "# Basic Information\n",
    "    ##shape: rows and columns\n",
    "    ##size: number of elements\n",
    "    ##dimension: return dimension 1,2,3\n",
    "    ##data type: return stored data values type"
   ]
  },
  {
   "cell_type": "code",
   "execution_count": 42,
   "id": "a1913d79-6655-4e1f-aed7-f0b31ff5b89a",
   "metadata": {},
   "outputs": [
    {
     "name": "stdout",
     "output_type": "stream",
     "text": [
      "[10 20 30 40 50]\n"
     ]
    }
   ],
   "source": [
    "print(array1)"
   ]
  },
  {
   "cell_type": "code",
   "execution_count": 43,
   "id": "fa1e3f16-2ae9-4cea-8d8f-80d4b27653ee",
   "metadata": {},
   "outputs": [
    {
     "name": "stdout",
     "output_type": "stream",
     "text": [
      "Shape of array1 :  (5,)\n"
     ]
    }
   ],
   "source": [
    "print('Shape of array1 : ',array1.shape)"
   ]
  },
  {
   "cell_type": "code",
   "execution_count": 44,
   "id": "8e49b9c1-781d-43ab-9474-6547f07ab6b1",
   "metadata": {},
   "outputs": [
    {
     "name": "stdout",
     "output_type": "stream",
     "text": [
      "Size of array1 :  5\n"
     ]
    }
   ],
   "source": [
    "print('Size of array1 : ',array1.size)"
   ]
  },
  {
   "cell_type": "code",
   "execution_count": 45,
   "id": "a5aab7c0-fb20-4b18-b37f-054e4be79abc",
   "metadata": {},
   "outputs": [
    {
     "name": "stdout",
     "output_type": "stream",
     "text": [
      "Dimension of array1 :  1\n"
     ]
    }
   ],
   "source": [
    "print('Dimension of array1 : ',array1.ndim)"
   ]
  },
  {
   "cell_type": "code",
   "execution_count": 46,
   "id": "82a761fe-26cf-40df-820a-951ce41e55f6",
   "metadata": {},
   "outputs": [
    {
     "name": "stdout",
     "output_type": "stream",
     "text": [
      "Data type of array1 :  int64\n"
     ]
    }
   ],
   "source": [
    "print('Data type of array1 : ',array1.dtype)"
   ]
  },
  {
   "cell_type": "code",
   "execution_count": 55,
   "id": "bdac2651-0805-41ea-ba74-e6436518790c",
   "metadata": {},
   "outputs": [],
   "source": [
    "students=np.array(['Jennie binti Abdullah','Lalisa','Jisoo','Rose','IU'])"
   ]
  },
  {
   "cell_type": "code",
   "execution_count": 56,
   "id": "ba783f54-519a-4eba-acf8-d439ca1f2481",
   "metadata": {},
   "outputs": [
    {
     "name": "stdout",
     "output_type": "stream",
     "text": [
      "['Jennie binti Abdullah' 'Lalisa' 'Jisoo' 'Rose' 'IU']\n"
     ]
    }
   ],
   "source": [
    "print(students)"
   ]
  },
  {
   "cell_type": "code",
   "execution_count": 57,
   "id": "0f38b157-c755-4cae-b37d-2e4082e15438",
   "metadata": {},
   "outputs": [
    {
     "name": "stdout",
     "output_type": "stream",
     "text": [
      "Shape of array1 :  (5,)\n"
     ]
    }
   ],
   "source": [
    "print('Shape of array1 : ',students.shape)"
   ]
  },
  {
   "cell_type": "code",
   "execution_count": 58,
   "id": "8aec41e1-4e1a-4827-9ba0-7d0f9ddc2c68",
   "metadata": {},
   "outputs": [
    {
     "name": "stdout",
     "output_type": "stream",
     "text": [
      "Shape of array1 :  5\n"
     ]
    }
   ],
   "source": [
    "print('Shape of array1 : ',students.size)"
   ]
  },
  {
   "cell_type": "code",
   "execution_count": 59,
   "id": "3511e900-4c37-4885-a928-3bcc21b17578",
   "metadata": {},
   "outputs": [
    {
     "name": "stdout",
     "output_type": "stream",
     "text": [
      "Shape of array1 :  <U21\n"
     ]
    }
   ],
   "source": [
    "print('Shape of array1 : ',students.dtype)"
   ]
  },
  {
   "cell_type": "markdown",
   "id": "cd77aa47-6754-4cb2-ab62-f7623fb68139",
   "metadata": {},
   "source": [
    "# Mathermatical Operation"
   ]
  },
  {
   "cell_type": "code",
   "execution_count": 60,
   "id": "7f73f69a-eee9-4827-9aa9-3a012e938f45",
   "metadata": {},
   "outputs": [
    {
     "name": "stdout",
     "output_type": "stream",
     "text": [
      "[10 20 30 40 50]\n"
     ]
    }
   ],
   "source": [
    "print(array1)"
   ]
  },
  {
   "cell_type": "code",
   "execution_count": 61,
   "id": "719a2ae6-beae-4443-90e4-f188b4b08e1b",
   "metadata": {},
   "outputs": [],
   "source": [
    "total=np.sum(array1)"
   ]
  },
  {
   "cell_type": "code",
   "execution_count": 62,
   "id": "67cbc205-04d7-4e02-82e4-3382156c007b",
   "metadata": {},
   "outputs": [
    {
     "name": "stdout",
     "output_type": "stream",
     "text": [
      "150\n"
     ]
    }
   ],
   "source": [
    "print(total)"
   ]
  },
  {
   "cell_type": "code",
   "execution_count": 64,
   "id": "ee902ab8-deeb-4c8d-959a-7c40888f7086",
   "metadata": {},
   "outputs": [
    {
     "name": "stdout",
     "output_type": "stream",
     "text": [
      "Average:  30.0\n"
     ]
    }
   ],
   "source": [
    "print('Average: ',np.mean(array1))"
   ]
  },
  {
   "cell_type": "code",
   "execution_count": 65,
   "id": "a6e16223-3fd7-4f9c-98d9-4c42c1164eca",
   "metadata": {},
   "outputs": [
    {
     "name": "stdout",
     "output_type": "stream",
     "text": [
      "Min:  10\n"
     ]
    }
   ],
   "source": [
    "print('Min: ',np.min(array1))"
   ]
  },
  {
   "cell_type": "code",
   "execution_count": 66,
   "id": "20814044-4a06-46ae-b9dc-14f6249607dd",
   "metadata": {},
   "outputs": [
    {
     "name": "stdout",
     "output_type": "stream",
     "text": [
      "Max:  50\n"
     ]
    }
   ],
   "source": [
    "print('Max: ',np.max(array1))"
   ]
  },
  {
   "cell_type": "code",
   "execution_count": 67,
   "id": "64707292-cbfc-4be5-8035-8ed6cc57aca4",
   "metadata": {},
   "outputs": [
    {
     "name": "stdout",
     "output_type": "stream",
     "text": [
      "Index of Min:  0\n"
     ]
    }
   ],
   "source": [
    "print('Index of Min: ',np.argmin(array1))"
   ]
  },
  {
   "cell_type": "code",
   "execution_count": 69,
   "id": "d6041164-4700-44fa-bb61-f2e40ef1c402",
   "metadata": {},
   "outputs": [
    {
     "name": "stdout",
     "output_type": "stream",
     "text": [
      "Index of Max:  4\n"
     ]
    }
   ],
   "source": [
    "print('Index of Max: ',np.argmax(array1))"
   ]
  },
  {
   "cell_type": "code",
   "execution_count": 78,
   "id": "bdb55597-1aa9-4049-8506-bcdf62ead7e0",
   "metadata": {},
   "outputs": [],
   "source": [
    "our_arr=np.array([100,200,300,7000,400,500,300,1900,600])"
   ]
  },
  {
   "cell_type": "code",
   "execution_count": 79,
   "id": "41f2699d-39c2-42f4-86e6-e3b20953a84c",
   "metadata": {},
   "outputs": [
    {
     "name": "stdout",
     "output_type": "stream",
     "text": [
      "[ 100  200  300 7000  400  500  300 1900  600]\n"
     ]
    }
   ],
   "source": [
    "print(our_arr)"
   ]
  },
  {
   "cell_type": "markdown",
   "id": "89a930c5-a3af-430d-b68f-f87bb416b25f",
   "metadata": {},
   "source": [
    "# Searching and Sorting Example in 1D Array"
   ]
  },
  {
   "cell_type": "code",
   "execution_count": 80,
   "id": "b2c76847-df59-4298-886d-6af8be1168c0",
   "metadata": {},
   "outputs": [
    {
     "name": "stdout",
     "output_type": "stream",
     "text": [
      "***Sorted Array***\n",
      "[ 100  200  300  300  400  500  600 1900 7000]\n"
     ]
    }
   ],
   "source": [
    "sorted_arr=np.sort(our_arr)\n",
    "print('***Sorted Array***')\n",
    "print(sorted_arr)"
   ]
  },
  {
   "cell_type": "code",
   "execution_count": 81,
   "id": "f736d1a7-ed16-435e-b380-ec1c99e7ccb2",
   "metadata": {},
   "outputs": [
    {
     "name": "stdout",
     "output_type": "stream",
     "text": [
      "Any item greater than 500? :  True\n"
     ]
    }
   ],
   "source": [
    "print('Any item greater than 500? : ',np.any(sorted_arr>500))"
   ]
  },
  {
   "cell_type": "code",
   "execution_count": 87,
   "id": "4144bfcf-9cd1-4750-aaf8-16eb7a7ead8d",
   "metadata": {},
   "outputs": [
    {
     "name": "stdout",
     "output_type": "stream",
     "text": [
      "All greater than 500? :  False\n"
     ]
    }
   ],
   "source": [
    "print('All greater than 500? : ',np.all(sorted_arr>500))"
   ]
  },
  {
   "cell_type": "code",
   "execution_count": 83,
   "id": "c25099c4-acd4-48b9-a463-b9fa47d71832",
   "metadata": {},
   "outputs": [
    {
     "name": "stdout",
     "output_type": "stream",
     "text": [
      "All greater than 99? :  True\n"
     ]
    }
   ],
   "source": [
    "print('All greater than 99? : ',np.any(sorted_arr>99))"
   ]
  },
  {
   "cell_type": "code",
   "execution_count": 85,
   "id": "ac1f7b68-a911-43a8-a337-7db97b8f53a3",
   "metadata": {},
   "outputs": [
    {
     "name": "stdout",
     "output_type": "stream",
     "text": [
      "Where values > 500? :  (array([6, 7, 8]),)\n"
     ]
    }
   ],
   "source": [
    "print('Where values > 500? : ',np.where(sorted_arr>500))"
   ]
  },
  {
   "cell_type": "code",
   "execution_count": 86,
   "id": "62503fbc-27e8-4925-98de-7aa6d289e9d4",
   "metadata": {},
   "outputs": [
    {
     "name": "stdout",
     "output_type": "stream",
     "text": [
      "All number greater than 500? : \n",
      "[6 7 8]\n"
     ]
    }
   ],
   "source": [
    "print('All number greater than 500? : ')\n",
    "for num in np.where(sorted_arr>500):\n",
    "    print(num)"
   ]
  },
  {
   "cell_type": "code",
   "execution_count": 88,
   "id": "6358db41-b276-4bb0-8090-f55b3c243700",
   "metadata": {},
   "outputs": [
    {
     "name": "stdout",
     "output_type": "stream",
     "text": [
      "[ 100  200  300 7000  400  500  300 1900  600]\n"
     ]
    }
   ],
   "source": [
    "print(our_arr)"
   ]
  },
  {
   "cell_type": "code",
   "execution_count": 89,
   "id": "b8df3553-4e6c-4f9e-94c9-3e81de425493",
   "metadata": {},
   "outputs": [
    {
     "name": "stdout",
     "output_type": "stream",
     "text": [
      "100\n"
     ]
    }
   ],
   "source": [
    "print(min(our_arr))"
   ]
  },
  {
   "cell_type": "code",
   "execution_count": 91,
   "id": "04d8c6ca-3297-46d5-9e5d-6cae05e6929a",
   "metadata": {},
   "outputs": [
    {
     "name": "stdout",
     "output_type": "stream",
     "text": [
      "Index of min:  0\n"
     ]
    }
   ],
   "source": [
    "print('Index of min: ',np.argmin(our_arr))"
   ]
  },
  {
   "cell_type": "code",
   "execution_count": 95,
   "id": "d38c06b2-cae3-45ff-9d63-a34ec1d72d69",
   "metadata": {},
   "outputs": [
    {
     "name": "stdout",
     "output_type": "stream",
     "text": [
      "Index of max:  3\n"
     ]
    }
   ],
   "source": [
    "print('Index of max: ',np.argmax(our_arr))"
   ]
  },
  {
   "cell_type": "code",
   "execution_count": 94,
   "id": "44a1b77a-37bf-43df-b472-783cb434c0d2",
   "metadata": {},
   "outputs": [
    {
     "name": "stdout",
     "output_type": "stream",
     "text": [
      "All number greater than 500? : \n",
      "False\n",
      "False\n",
      "False\n",
      "False\n",
      "False\n",
      "False\n",
      "True\n",
      "True\n",
      "True\n"
     ]
    }
   ],
   "source": [
    "print('All number greater than 500? : ')\n",
    "for num in sorted_arr>500:\n",
    "    print(num)"
   ]
  },
  {
   "cell_type": "code",
   "execution_count": 96,
   "id": "3ecd15db-c3fb-4352-986b-c02428038ded",
   "metadata": {},
   "outputs": [],
   "source": [
    "selected_values=sorted_arr[sorted_arr>500]"
   ]
  },
  {
   "cell_type": "code",
   "execution_count": 97,
   "id": "1e2181c6-1982-4da3-a03c-7d0929821d1c",
   "metadata": {},
   "outputs": [
    {
     "name": "stdout",
     "output_type": "stream",
     "text": [
      "[ 600 1900 7000]\n"
     ]
    }
   ],
   "source": [
    "print(selected_values)"
   ]
  },
  {
   "cell_type": "code",
   "execution_count": 98,
   "id": "adbc928d-2320-4826-ac60-c6ccf901efa1",
   "metadata": {},
   "outputs": [
    {
     "name": "stdout",
     "output_type": "stream",
     "text": [
      "600\n",
      "1900\n",
      "7000\n"
     ]
    }
   ],
   "source": [
    "for num in selected_values:\n",
    "    print(num)"
   ]
  },
  {
   "cell_type": "markdown",
   "id": "0d9378b3-cd84-431d-a771-00b420b05da5",
   "metadata": {},
   "source": [
    "# this is the shorter version (kat atas mcm explanation dia)"
   ]
  },
  {
   "cell_type": "code",
   "execution_count": 99,
   "id": "3afa8b8e-d0d3-4370-9f65-da6beb895955",
   "metadata": {},
   "outputs": [
    {
     "name": "stdout",
     "output_type": "stream",
     "text": [
      "600\n",
      "1900\n",
      "7000\n"
     ]
    }
   ],
   "source": [
    "for num in sorted_arr[sorted_arr>500]:\n",
    "    print(num)"
   ]
  },
  {
   "cell_type": "code",
   "execution_count": 100,
   "id": "ae918be5-0bf7-4735-801a-345c3f09b200",
   "metadata": {},
   "outputs": [
    {
     "name": "stdout",
     "output_type": "stream",
     "text": [
      "  [ 600 1900 7000]\n"
     ]
    }
   ],
   "source": [
    "print (' ',sorted_arr[sorted_arr>500])"
   ]
  },
  {
   "cell_type": "markdown",
   "id": "93f64b39-4c87-42c9-9541-f996d0691567",
   "metadata": {},
   "source": [
    "## or can code this way to get the non sorted:\n",
    "    ## for num in our_arr[our_arr>500]:\n",
    "            print(num)"
   ]
  },
  {
   "cell_type": "code",
   "execution_count": 101,
   "id": "7f1c1343-fc31-4346-8a91-565afefbc9cf",
   "metadata": {},
   "outputs": [
    {
     "name": "stdout",
     "output_type": "stream",
     "text": [
      "7000\n",
      "1900\n",
      "600\n"
     ]
    }
   ],
   "source": [
    "for num in our_arr[our_arr>500]:\n",
    "    print(num)"
   ]
  },
  {
   "cell_type": "markdown",
   "id": "1a3e20ef-1f08-4d09-a002-45bf4f1aca29",
   "metadata": {},
   "source": [
    "# Slicing 1 D Array\n",
    "    ## 1. To take elements from starting index to end index\n",
    "    ## 2. e.g [start:end]"
   ]
  },
  {
   "cell_type": "code",
   "execution_count": 107,
   "id": "c12a386a-c048-4a62-890a-b9125f40795f",
   "metadata": {},
   "outputs": [
    {
     "name": "stdout",
     "output_type": "stream",
     "text": [
      "[ 100  200  300  300  400  500  600 1900 7000]\n"
     ]
    }
   ],
   "source": [
    "print(sorted_arr)"
   ]
  },
  {
   "cell_type": "code",
   "execution_count": 109,
   "id": "c271a86f-4228-45c9-997f-a371ff726e78",
   "metadata": {},
   "outputs": [
    {
     "name": "stdout",
     "output_type": "stream",
     "text": [
      "[200 300]\n"
     ]
    }
   ],
   "source": [
    "slice_sorted_arr=sorted_arr[1:3]\n",
    "print(slice_sorted_arr)"
   ]
  },
  {
   "cell_type": "markdown",
   "id": "5f90f45b-d312-46ad-b2c1-53eb741cf2be",
   "metadata": {},
   "source": [
    "# starting from an index and going till last"
   ]
  },
  {
   "cell_type": "code",
   "execution_count": 110,
   "id": "4e8670f8-73ba-4d28-9e31-86f1349f40ac",
   "metadata": {},
   "outputs": [
    {
     "name": "stdout",
     "output_type": "stream",
     "text": [
      "[ 300  400  500  600 1900 7000]\n"
     ]
    }
   ],
   "source": [
    "print(sorted_arr[3:])"
   ]
  },
  {
   "cell_type": "code",
   "execution_count": 111,
   "id": "4455dad3-666b-4f6d-b7ef-47e334b4caec",
   "metadata": {},
   "outputs": [
    {
     "name": "stdout",
     "output_type": "stream",
     "text": [
      "[100 200 300 300]\n"
     ]
    }
   ],
   "source": [
    "print(sorted_arr[:4])"
   ]
  },
  {
   "cell_type": "code",
   "execution_count": 112,
   "id": "1d26aca2-aef0-4c75-9bb4-0f8464f5f5da",
   "metadata": {},
   "outputs": [
    {
     "name": "stdout",
     "output_type": "stream",
     "text": [
      "[100 200 300 300 400]\n"
     ]
    }
   ],
   "source": [
    "print(sorted_arr[:5])"
   ]
  },
  {
   "cell_type": "markdown",
   "id": "0a69ca9e-c92b-448e-b26c-0cadc3e94bdf",
   "metadata": {},
   "source": [
    "# step\n",
    "    ##[start:end:step]\n",
    "    ##[step: every step element"
   ]
  },
  {
   "cell_type": "code",
   "execution_count": 113,
   "id": "d766ebc5-a1b6-44a7-9262-da28e553d1d7",
   "metadata": {},
   "outputs": [
    {
     "name": "stdout",
     "output_type": "stream",
     "text": [
      "[200 300 500]\n"
     ]
    }
   ],
   "source": [
    "our_slice=sorted_arr[1:6:2]\n",
    "print(our_slice)"
   ]
  },
  {
   "cell_type": "code",
   "execution_count": 116,
   "id": "eea08728-a913-4b67-bd11-0ad16af74612",
   "metadata": {},
   "outputs": [
    {
     "name": "stdout",
     "output_type": "stream",
     "text": [
      "Original Sorted Array\n",
      "[ 100  200  300  300  400  500  600 1900 7000]\n",
      "Every Third Element\n",
      "[ 100  300  400  600 7000]\n"
     ]
    }
   ],
   "source": [
    "print('Original Sorted Array')\n",
    "print(sorted_arr)\n",
    "print('Every Third Element')\n",
    "every_third_element=sorted_arr[::2]\n",
    "print(every_third_element)"
   ]
  },
  {
   "cell_type": "markdown",
   "id": "913f1c21-29fa-4a1f-b313-35a4b55a16f2",
   "metadata": {},
   "source": [
    "# Slice Reverse"
   ]
  },
  {
   "cell_type": "code",
   "execution_count": 117,
   "id": "fc3634f6-6cc8-4d5a-bd83-180708ca8187",
   "metadata": {},
   "outputs": [
    {
     "name": "stdout",
     "output_type": "stream",
     "text": [
      "Original Sorted Array\n",
      "[ 100  200  300  300  400  500  600 1900 7000]\n",
      "Reverse Array:  [7000 1900  600  500  400  300  300  200  100]\n"
     ]
    }
   ],
   "source": [
    "print('Original Sorted Array')\n",
    "print(sorted_arr)\n",
    "print('Reverse Array: ',sorted_arr[::-1])\n"
   ]
  },
  {
   "cell_type": "markdown",
   "id": "3aa9dff8-5352-4f74-bdb0-1960b2323c3b",
   "metadata": {},
   "source": [
    "    ## print('Reverse Array: ')\n",
    "    ## print (sorted_arr[::-1])\n",
    "    ## same thing in two lines"
   ]
  },
  {
   "cell_type": "code",
   "execution_count": 119,
   "id": "a08ce648-c755-4bca-a618-54d5fec13da2",
   "metadata": {},
   "outputs": [
    {
     "name": "stdout",
     "output_type": "stream",
     "text": [
      "Reverse Array: \n",
      "[7000 1900  600  500  400  300  300  200  100]\n"
     ]
    }
   ],
   "source": [
    "print('Reverse Array: ')\n",
    "print (sorted_arr[::-1])"
   ]
  },
  {
   "cell_type": "code",
   "execution_count": 120,
   "id": "d7e7e269-f8ac-4d2a-9b0b-1aa8915bc3da",
   "metadata": {},
   "outputs": [
    {
     "name": "stdout",
     "output_type": "stream",
     "text": [
      "Last Five Elements\n",
      "[ 400  500  600 1900 7000]\n"
     ]
    }
   ],
   "source": [
    "print('Last Five Elements')\n",
    "print(sorted_arr[-5:])"
   ]
  },
  {
   "cell_type": "code",
   "execution_count": 122,
   "id": "64bcf2c1-ca59-4891-8bcc-869eda6dd7f8",
   "metadata": {},
   "outputs": [
    {
     "name": "stdout",
     "output_type": "stream",
     "text": [
      "Slicing Done\n"
     ]
    }
   ],
   "source": [
    "print('Slicing Done')"
   ]
  },
  {
   "cell_type": "code",
   "execution_count": null,
   "id": "7bfe83b5-61fd-4d31-8d6f-1bac17b69ab5",
   "metadata": {},
   "outputs": [],
   "source": []
  }
 ],
 "metadata": {
  "kernelspec": {
   "display_name": "Python [conda env:base] *",
   "language": "python",
   "name": "conda-base-py"
  },
  "language_info": {
   "codemirror_mode": {
    "name": "ipython",
    "version": 3
   },
   "file_extension": ".py",
   "mimetype": "text/x-python",
   "name": "python",
   "nbconvert_exporter": "python",
   "pygments_lexer": "ipython3",
   "version": "3.13.5"
  }
 },
 "nbformat": 4,
 "nbformat_minor": 5
}
