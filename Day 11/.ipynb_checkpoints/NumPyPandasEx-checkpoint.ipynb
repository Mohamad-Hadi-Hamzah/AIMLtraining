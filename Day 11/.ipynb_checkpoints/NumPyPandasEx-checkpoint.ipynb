{
 "cells": [
  {
   "cell_type": "code",
   "execution_count": 1,
   "id": "f3bc748d-1c40-4e94-b20e-9d82725b2d50",
   "metadata": {},
   "outputs": [],
   "source": [
    "import pandas as pd\n",
    "import numpy as np"
   ]
  },
  {
   "cell_type": "code",
   "execution_count": 2,
   "id": "3fff3277-a2ab-4240-87e9-935074bf7210",
   "metadata": {},
   "outputs": [
    {
     "name": "stdout",
     "output_type": "stream",
     "text": [
      "    Name  Age  Marks\n",
      "0   John   20     85\n",
      "1  Alice   22     90\n",
      "2    Bob   21     78\n",
      "3   Sara   23     92\n"
     ]
    }
   ],
   "source": [
    "df=pd.read_excel('students.xlsx')\n",
    "print(df)"
   ]
  },
  {
   "cell_type": "code",
   "execution_count": 3,
   "id": "56ea5362-ddab-4b81-ae00-9c7d9444c7b9",
   "metadata": {},
   "outputs": [
    {
     "name": "stdout",
     "output_type": "stream",
     "text": [
      "Numpy Array of Marks\n",
      "[85 90 78 92]\n"
     ]
    }
   ],
   "source": [
    "marks=df['Marks'].to_numpy()\n",
    "print('Numpy Array of Marks')\n",
    "print(marks)"
   ]
  },
  {
   "cell_type": "code",
   "execution_count": 4,
   "id": "0e8db291-0edb-434c-9875-729481ce3de2",
   "metadata": {},
   "outputs": [
    {
     "name": "stdout",
     "output_type": "stream",
     "text": [
      "Highest Marks 92\n"
     ]
    }
   ],
   "source": [
    "print('Highest Marks',np.max(marks))"
   ]
  },
  {
   "cell_type": "code",
   "execution_count": 5,
   "id": "b67a7f66-cb5a-48e6-9ba7-ffd97ae30637",
   "metadata": {},
   "outputs": [
    {
     "name": "stdout",
     "output_type": "stream",
     "text": [
      "Lowest Marks 78\n"
     ]
    }
   ],
   "source": [
    "print('Lowest Marks',np.min(marks))"
   ]
  },
  {
   "cell_type": "code",
   "execution_count": 6,
   "id": "de407f70-0e10-4fba-aeea-4f127c3f401d",
   "metadata": {},
   "outputs": [
    {
     "name": "stdout",
     "output_type": "stream",
     "text": [
      "Average Marks 86.25\n"
     ]
    }
   ],
   "source": [
    "print('Average Marks',np.mean(marks))"
   ]
  },
  {
   "cell_type": "markdown",
   "id": "01f187fb-eafd-49cd-b949-a615465b2ddf",
   "metadata": {},
   "source": [
    "# .loc: Label Based\n",
    "# .iloc: Index Based"
   ]
  },
  {
   "cell_type": "code",
   "execution_count": 13,
   "id": "643692ec-6915-424f-865b-76d611bd1d9f",
   "metadata": {},
   "outputs": [
    {
     "name": "stdout",
     "output_type": "stream",
     "text": [
      "Original Dataframe\n",
      "    Name  Age  Marks\n",
      "0   John   20     85\n",
      "1  Alice   22     90\n",
      "2    Bob   21     78\n",
      "3   Sara   23     92\n",
      "Location : Label based\n",
      "Name     Bob\n",
      "Marks     78\n",
      "Name: 2, dtype: object\n"
     ]
    }
   ],
   "source": [
    "print('Original Dataframe')\n",
    "print(df)\n",
    "print('Location : Label based')\n",
    "print(df.loc[2,['Name','Marks']])"
   ]
  },
  {
   "cell_type": "code",
   "execution_count": 16,
   "id": "549a1f04-9fe8-47a0-b0f6-a4f139719506",
   "metadata": {},
   "outputs": [
    {
     "name": "stdout",
     "output_type": "stream",
     "text": [
      "Original Dataframe\n",
      "    Name  Age  Marks\n",
      "0   John   20     85\n",
      "1  Alice   22     90\n",
      "2    Bob   21     78\n",
      "3   Sara   23     92\n",
      "Location : Index based\n",
      "Name     Sara\n",
      "Marks      92\n",
      "Name: 3, dtype: object\n"
     ]
    }
   ],
   "source": [
    "print('Original Dataframe')\n",
    "print(df)\n",
    "print('Location : Index based')\n",
    "print(df.iloc[3,[0,2]])"
   ]
  },
  {
   "cell_type": "markdown",
   "id": "4e2983ea-5eae-4c5f-a03d-8ba4a937b086",
   "metadata": {},
   "source": [
    "# Axis in NumPy : \n",
    "    1.Axis 0: vertical direction: works column wise\n",
    "    2.Axis 1: horizontal direction: works row-wise"
   ]
  },
  {
   "cell_type": "markdown",
   "id": "39e0d495-a9fd-42ef-b002-4eceff448535",
   "metadata": {},
   "source": [
    "# we have 2 student marks in 3 subjects\n",
    "    [[45,50,49],[30,45,49]]"
   ]
  },
  {
   "cell_type": "code",
   "execution_count": 20,
   "id": "00c0ef1a-cd41-4b60-a5a8-4fe3d39781c5",
   "metadata": {},
   "outputs": [
    {
     "name": "stdout",
     "output_type": "stream",
     "text": [
      "[[ 5  2  9]\n",
      " [10 40 60]]\n"
     ]
    }
   ],
   "source": [
    "marks_arr=np.array([[5,2,9],[10,40,60]])\n",
    "print(marks_arr)"
   ]
  },
  {
   "cell_type": "code",
   "execution_count": 21,
   "id": "85761082-1afd-4b2f-a06d-137addf5838a",
   "metadata": {},
   "outputs": [
    {
     "name": "stdout",
     "output_type": "stream",
     "text": [
      "sum down each column [15 42 69]\n"
     ]
    }
   ],
   "source": [
    "print('sum down each column',np.sum(marks_arr,axis=0))"
   ]
  },
  {
   "cell_type": "code",
   "execution_count": 22,
   "id": "35bce3b1-1250-4ea1-a149-25a43b397894",
   "metadata": {},
   "outputs": [
    {
     "name": "stdout",
     "output_type": "stream",
     "text": [
      "sum down each row [ 16 110]\n"
     ]
    }
   ],
   "source": [
    "print('sum down each row',np.sum(marks_arr,axis=1))"
   ]
  },
  {
   "cell_type": "code",
   "execution_count": 23,
   "id": "1f876022-9792-47c6-a433-db21675be463",
   "metadata": {},
   "outputs": [
    {
     "name": "stdout",
     "output_type": "stream",
     "text": [
      "Numpy Array of Marks\n",
      "[85 90 78 92]\n"
     ]
    }
   ],
   "source": [
    "print('Numpy Array of Marks')\n",
    "print(marks)"
   ]
  },
  {
   "cell_type": "code",
   "execution_count": 24,
   "id": "758a9c54-ce6e-4893-9884-d8bc03c30fc8",
   "metadata": {},
   "outputs": [
    {
     "name": "stdout",
     "output_type": "stream",
     "text": [
      "    Name  Age  Marks\n",
      "0   John   20     85\n",
      "1  Alice   22     90\n",
      "2    Bob   21     78\n",
      "3   Sara   23     92\n"
     ]
    }
   ],
   "source": [
    "print(df)"
   ]
  },
  {
   "cell_type": "markdown",
   "id": "7478e487-a48f-4471-90e3-f6c605b804ff",
   "metadata": {},
   "source": [
    "# find the students name who got the highest marks"
   ]
  },
  {
   "cell_type": "code",
   "execution_count": 27,
   "id": "709960ca-5099-4cc5-bc5a-f9d25408fea3",
   "metadata": {},
   "outputs": [
    {
     "name": "stdout",
     "output_type": "stream",
     "text": [
      "Sara\n"
     ]
    }
   ],
   "source": [
    "topper=df.loc[df['Marks'].idxmax(),'Name']\n",
    "print(topper)"
   ]
  },
  {
   "cell_type": "code",
   "execution_count": 26,
   "id": "274ce145-e75b-4a8e-a5be-971961bd4b46",
   "metadata": {},
   "outputs": [
    {
     "name": "stdout",
     "output_type": "stream",
     "text": [
      "Bob\n"
     ]
    }
   ],
   "source": [
    "bottomest=df.loc[df['Marks'].idxmin(),'Name']\n",
    "print(bottomest)"
   ]
  },
  {
   "cell_type": "markdown",
   "id": "7237b70c-62d2-4852-a73a-98584a16ee4c",
   "metadata": {},
   "source": [
    "# Next example using iloc"
   ]
  },
  {
   "cell_type": "code",
   "execution_count": 28,
   "id": "7e374ba4-fa5a-4458-bc76-c2cbbe417144",
   "metadata": {},
   "outputs": [
    {
     "name": "stdout",
     "output_type": "stream",
     "text": [
      "Topper of the class is:  Sara\n"
     ]
    }
   ],
   "source": [
    "topIndex=df['Marks'].idxmax()\n",
    "topStudent=df.iloc[topIndex,df.columns.get_loc('Name')]\n",
    "print('Topper of the class is: ',topStudent)"
   ]
  },
  {
   "cell_type": "code",
   "execution_count": null,
   "id": "088d1fbc-4cba-4b13-ba68-23a7b85981e8",
   "metadata": {},
   "outputs": [],
   "source": []
  }
 ],
 "metadata": {
  "kernelspec": {
   "display_name": "Python [conda env:base] *",
   "language": "python",
   "name": "conda-base-py"
  },
  "language_info": {
   "codemirror_mode": {
    "name": "ipython",
    "version": 3
   },
   "file_extension": ".py",
   "mimetype": "text/x-python",
   "name": "python",
   "nbconvert_exporter": "python",
   "pygments_lexer": "ipython3",
   "version": "3.13.5"
  }
 },
 "nbformat": 4,
 "nbformat_minor": 5
}
